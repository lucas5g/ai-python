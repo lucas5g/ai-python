{
 "cells": [
  {
   "cell_type": "code",
   "execution_count": 28,
   "metadata": {},
   "outputs": [
    {
     "data": {
      "text/plain": [
       "PurePosixPath('.')"
      ]
     },
     "execution_count": 28,
     "metadata": {},
     "output_type": "execute_result"
    }
   ],
   "source": [
    "import json\n",
    "from pathlib import Path, PurePath \n",
    "messages = [    \n",
    "    {\"role\": \"user\", \"content\": \"Bom dia, como realizar reduce e faça com exemplo em python\" },\n",
    "    {\"role\": \"assistant\", \"content\": \"Como realizar reduce?\" },\n",
    "    \n",
    "]\n",
    "messages[0]['content'][:30].replace(' ', '-')\n",
    "\n",
    "Path(\"/chats\")\n",
    "PurePath()\n",
    "# with open(f'files/{messages[0][\"content\"][]}.json', 'w') as test:\n",
    "#     json.dump(messages, test, indent=2)\n",
    "    \n",
    "\n",
    "  "
   ]
  },
  {
   "cell_type": "code",
   "execution_count": 21,
   "metadata": {},
   "outputs": [
    {
     "name": "stdout",
     "output_type": "stream",
     "text": [
      "test2\n",
      "[{'role': 'user', 'content': 'bom dia'}]\n"
     ]
    }
   ],
   "source": [
    "from peewee import SqliteDatabase, Model, CharField\n",
    "\n",
    "db = SqliteDatabase('meu-chat.db')\n",
    "\n",
    "class Chat(Model):\n",
    "    name = CharField()\n",
    "    messages = CharField()\n",
    "    \n",
    "    class Meta:\n",
    "        database = db \n",
    "        \n",
    "db.connect()\n",
    "\n",
    "db.create_tables([Chat])\n",
    "\n",
    "\n",
    "# Chat(name='test2', messages=str([{\"role\":\"user\", \"content\":\"bom dia\"}])).save()\n",
    "\n",
    "for chat in Chat.select():\n",
    "    print(chat.name)\n",
    "    print(chat.messages)"
   ]
  }
 ],
 "metadata": {
  "kernelspec": {
   "display_name": "Python 3",
   "language": "python",
   "name": "python3"
  },
  "language_info": {
   "codemirror_mode": {
    "name": "ipython",
    "version": 3
   },
   "file_extension": ".py",
   "mimetype": "text/x-python",
   "name": "python",
   "nbconvert_exporter": "python",
   "pygments_lexer": "ipython3",
   "version": "3.10.12"
  }
 },
 "nbformat": 4,
 "nbformat_minor": 2
}
