{
 "cells": [
  {
   "cell_type": "code",
   "execution_count": 28,
   "metadata": {},
   "outputs": [
    {
     "data": {
      "text/plain": [
       "PurePosixPath('.')"
      ]
     },
     "execution_count": 28,
     "metadata": {},
     "output_type": "execute_result"
    }
   ],
   "source": [
    "import json\n",
    "from pathlib import Path, PurePath \n",
    "messages = [    \n",
    "    {\"role\": \"user\", \"content\": \"Bom dia, como realizar reduce e faça com exemplo em python\" },\n",
    "    {\"role\": \"assistant\", \"content\": \"Como realizar reduce?\" },\n",
    "    \n",
    "]\n",
    "messages[0]['content'][:30].replace(' ', '-')\n",
    "\n",
    "Path(\"/chats\")\n",
    "PurePath()\n",
    "# with open(f'files/{messages[0][\"content\"][]}.json', 'w') as test:\n",
    "#     json.dump(messages, test, indent=2)\n",
    "    \n",
    "\n",
    "  "
   ]
  }
 ],
 "metadata": {
  "kernelspec": {
   "display_name": "Python 3",
   "language": "python",
   "name": "python3"
  },
  "language_info": {
   "codemirror_mode": {
    "name": "ipython",
    "version": 3
   },
   "file_extension": ".py",
   "mimetype": "text/x-python",
   "name": "python",
   "nbconvert_exporter": "python",
   "pygments_lexer": "ipython3",
   "version": "3.10.12"
  }
 },
 "nbformat": 4,
 "nbformat_minor": 2
}
