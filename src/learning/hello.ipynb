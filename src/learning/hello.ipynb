{
 "cells": [
  {
   "cell_type": "code",
   "execution_count": 28,
   "metadata": {},
   "outputs": [
    {
     "data": {
      "text/plain": [
       "PurePosixPath('.')"
      ]
     },
     "execution_count": 28,
     "metadata": {},
     "output_type": "execute_result"
    }
   ],
   "source": [
    "import json\n",
    "from pathlib import Path, PurePath \n",
    "messages = [    \n",
    "    {\"role\": \"user\", \"content\": \"Bom dia, como realizar reduce e faça com exemplo em python\" },\n",
    "    {\"role\": \"assistant\", \"content\": \"Como realizar reduce?\" },\n",
    "    \n",
    "]\n",
    "messages[0]['content'][:30].replace(' ', '-')\n",
    "\n",
    "Path(\"/chats\")\n",
    "PurePath()\n",
    "# with open(f'files/{messages[0][\"content\"][]}.json', 'w') as test:\n",
    "#     json.dump(messages, test, indent=2)\n",
    "    \n",
    "\n",
    "  "
   ]
  },
  {
   "cell_type": "code",
   "execution_count": 21,
   "metadata": {},
   "outputs": [
    {
     "name": "stdout",
     "output_type": "stream",
     "text": [
      "test2\n",
      "[{'role': 'user', 'content': 'bom dia'}]\n"
     ]
    }
   ],
   "source": [
    "from peewee import SqliteDatabase, Model, CharField\n",
    "\n",
    "db = SqliteDatabase('meu-chat.db')\n",
    "\n",
    "class Chat(Model):\n",
    "    name = CharField()\n",
    "    messages = CharField()\n",
    "    \n",
    "    class Meta:\n",
    "        database = db \n",
    "        \n",
    "db.connect()\n",
    "\n",
    "db.create_tables([Chat])\n",
    "\n",
    "\n",
    "# Chat(name='test2', messages=str([{\"role\":\"user\", \"content\":\"bom dia\"}])).save()\n",
    "\n",
    "for chat in Chat.select():\n",
    "    print(chat.name)\n",
    "    print(chat.messages)"
   ]
  },
  {
   "cell_type": "code",
   "execution_count": 6,
   "metadata": {},
   "outputs": [
    {
     "data": {
      "text/plain": [
       "['GPT-3.5-TURBO', 'GPT-4o', 'LLAMA-3.1-8B-INSTANT', 'LLAMA3-8B-8192']"
      ]
     },
     "execution_count": 6,
     "metadata": {},
     "output_type": "execute_result"
    }
   ],
   "source": [
    "\n",
    "models = [\n",
    "    \"LLAMA3-8B-8192\",\n",
    "    \"LLAMA-3.1-8B-INSTANT\",\n",
    "    \"GPT-3.5-TURBO\",\n",
    "    \"GPT-4o\"\n",
    "    \n",
    "]\n",
    "models,\n",
    "sorted(models)"
   ]
  },
  {
   "cell_type": "code",
   "execution_count": 7,
   "metadata": {},
   "outputs": [
    {
     "data": {
      "text/plain": [
       "[{'role': 'user', 'content': '3+3'},\n",
       " {'role': 'assistant', 'content': '3 + 3 = 6'}]"
      ]
     },
     "execution_count": 7,
     "metadata": {},
     "output_type": "execute_result"
    }
   ],
   "source": [
    "import json\n",
    "\n",
    "string = \"[{'role': 'user', 'content': '3+3'}, {'role': 'assistant', 'content': '3 + 3 = 6'}]\"\n",
    "\n",
    "# string\n",
    "string = string.replace(\"'\", \"\\\"\")\n",
    "json.loads(string)\n",
    "# json.dumps(string)\n",
    "# Remova os caracteres especiais da string\n",
    "\n",
    "# Converte a string em um objeto JSON\n",
    "# json_obj = json.loads(string)\n",
    "\n",
    "# print(json_obj)"
   ]
  }
 ],
 "metadata": {
  "kernelspec": {
   "display_name": "Python 3",
   "language": "python",
   "name": "python3"
  },
  "language_info": {
   "codemirror_mode": {
    "name": "ipython",
    "version": 3
   },
   "file_extension": ".py",
   "mimetype": "text/x-python",
   "name": "python",
   "nbconvert_exporter": "python",
   "pygments_lexer": "ipython3",
   "version": "3.10.12"
  }
 },
 "nbformat": 4,
 "nbformat_minor": 2
}
