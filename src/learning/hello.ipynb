{
 "cells": [
  {
   "cell_type": "code",
   "execution_count": 3,
   "metadata": {},
   "outputs": [
    {
     "name": "stdout",
     "output_type": "stream",
     "text": [
      "Você é menor de idade\n"
     ]
    }
   ],
   "source": [
    "age = int(input('Idade: '))\n",
    "if age < 17:\n",
    "  print(\"Você é menor de idade\")\n",
    "else:\n",
    "  print('Vc tem maios de 18 anos')\n",
    "  "
   ]
  },
  {
   "cell_type": "code",
   "execution_count": 8,
   "metadata": {},
   "outputs": [
    {
     "ename": "TabError",
     "evalue": "inconsistent use of tabs and spaces in indentation (2478218159.py, line 8)",
     "output_type": "error",
     "traceback": [
      "\u001b[0;36m  Cell \u001b[0;32mIn[8], line 8\u001b[0;36m\u001b[0m\n\u001b[0;31m    print('Voltar para casa')\u001b[0m\n\u001b[0m    ^\u001b[0m\n\u001b[0;31mTabError\u001b[0m\u001b[0;31m:\u001b[0m inconsistent use of tabs and spaces in indentation\n"
     ]
    }
   ],
   "source": [
    "res = input('Estou com fome? s/n')\n",
    "\n",
    "if res == \"s\":\n",
    "    haveFood = input('Tenho comida s/n')\n",
    "    \t\n",
    "    if haveFood != \"s\":\n",
    "     \tprint(\"Ir ao mercado\")\n",
    "\t\tprint('Voltar para casa')\n",
    "     \n",
    "\tprint('Preparar uma refeição')\t\n",
    "\tprint('Comer a comida')\n",
    " \n",
    " \n",
    "    \n"
   ]
  }
 ],
 "metadata": {
  "kernelspec": {
   "display_name": "Python 3",
   "language": "python",
   "name": "python3"
  },
  "language_info": {
   "codemirror_mode": {
    "name": "ipython",
    "version": 3
   },
   "file_extension": ".py",
   "mimetype": "text/x-python",
   "name": "python",
   "nbconvert_exporter": "python",
   "pygments_lexer": "ipython3",
   "version": "3.10.12"
  }
 },
 "nbformat": 4,
 "nbformat_minor": 2
}
