{
 "cells": [
  {
   "cell_type": "code",
   "execution_count": 1,
   "metadata": {},
   "outputs": [],
   "source": [
    "import yfinance as yf\n",
    "import openai\n",
    "import json"
   ]
  },
  {
   "cell_type": "code",
   "execution_count": 2,
   "metadata": {},
   "outputs": [],
   "source": [
    "client = openai.Client()"
   ]
  },
  {
   "cell_type": "code",
   "execution_count": 3,
   "metadata": {},
   "outputs": [],
   "source": [
    "def retorna_cotacao_historica(ticker, periodo='1mo'):\n",
    "    ticker_obj = yf.Ticker(f'{ticker}.SA')\n",
    "    hist = ticker_obj.history(period=periodo)['Close']\n",
    "    hist.index = hist.index.strftime('%Y-%m-%d')\n",
    "    hist = round(hist, 2)\n",
    "    \n",
    "    if len(hist) > 30:\n",
    "        slice_size = int(len(hist) / 30)\n",
    "        hist = hist.iloc[::-slice_size][::-1]\n",
    "        \n",
    "    return hist.to_json()\n",
    "    "
   ]
  },
  {
   "cell_type": "code",
   "execution_count": 5,
   "metadata": {},
   "outputs": [
    {
     "data": {
      "text/plain": [
       "'{\"2024-07-18\":11.73}'"
      ]
     },
     "execution_count": 5,
     "metadata": {},
     "output_type": "execute_result"
    }
   ],
   "source": [
    "retorna_cotacao_historica('ABEV3', '1d')"
   ]
  },
  {
   "cell_type": "code",
   "execution_count": 6,
   "metadata": {},
   "outputs": [],
   "source": [
    "tools = [\n",
    "    {\n",
    "        \"type\": \"function\",\n",
    "        \"function\": {\n",
    "            \"name\": \"retorna_cotacao_historica\",\n",
    "            \"description\": \"Retorna a cotação diária histórica para uma ação da bovespa\",\n",
    "            \"parameters\": {\n",
    "                \"type\": \"object\",\n",
    "                \"properties\": {\n",
    "                    \"ticker\": {\n",
    "                        \"type\": \"string\",\n",
    "                        \"description\": \"O ticker da ação. Exemplo: 'ABEV3' para ambev, 'PETR4' para petrobras, etc\",\n",
    "                    },\n",
    "                    \"periodo\": {\n",
    "                        \"type\": \"string\",\n",
    "                        \"description\": \"O período que será retornado de dados históricos \\\n",
    "\t\t\t\t\t\t\t\t\tsendo '1mo' equivalente a um mês de dados, '1d' a \\\n",
    "             \t\t\t\t\t\t1 dia e '1y' a 1 ano\",\n",
    "                        \"enum\": [\n",
    "                            \"1d\",\n",
    "                            \"5d\",\n",
    "                            \"1mo\",\n",
    "                            \"6mo\",\n",
    "                            \"1y\",\n",
    "                            \"5y\",\n",
    "                            \"10y\",\n",
    "                            \"ytd\",\n",
    "                            \"max\",\n",
    "                        ],\n",
    "                    },\n",
    "                },\n",
    "            },\n",
    "        },\n",
    "    }\n",
    "]"
   ]
  },
  {
   "cell_type": "code",
   "execution_count": 7,
   "metadata": {},
   "outputs": [],
   "source": [
    "funcoes_disponiveis = {\"retorna_cotacao_historica\": retorna_cotacao_historica}"
   ]
  },
  {
   "cell_type": "code",
   "execution_count": 9,
   "metadata": {},
   "outputs": [],
   "source": [
    "mensagens = [{\"role\": \"user\", \"content\": \"Qaul é a cotação da ambev agora\"}]\n",
    "\n",
    "res = client.chat.completions.create(\n",
    "    messages=mensagens,\n",
    "    model=\"gpt-3.5-turbo\",\n",
    "    tools=tools,\n",
    "    tool_choice='auto'\n",
    ")"
   ]
  },
  {
   "cell_type": "code",
   "execution_count": 10,
   "metadata": {},
   "outputs": [
    {
     "data": {
      "text/plain": [
       "ChatCompletion(id='chatcmpl-9mOTgJIwVYyWmQ4tpChc14A5wKdCn', choices=[Choice(finish_reason='tool_calls', index=0, logprobs=None, message=ChatCompletionMessage(content=None, role='assistant', function_call=None, tool_calls=[ChatCompletionMessageToolCall(id='call_TpkD46WAPc5nh3RXmx8Rn6W4', function=Function(arguments='{\"ticker\":\"ABEV3\",\"periodo\":\"1d\"}', name='retorna_cotacao_historica'), type='function')]))], created=1721320864, model='gpt-3.5-turbo-0125', object='chat.completion', service_tier=None, system_fingerprint=None, usage=CompletionUsage(completion_tokens=28, prompt_tokens=201, total_tokens=229))"
      ]
     },
     "execution_count": 10,
     "metadata": {},
     "output_type": "execute_result"
    }
   ],
   "source": [
    "res"
   ]
  },
  {
   "cell_type": "code",
   "execution_count": 15,
   "metadata": {},
   "outputs": [],
   "source": [
    "tool_calls = res.choices[0].message.tool_calls\n",
    "\n",
    "if tool_calls:\n",
    "    mensagens.append(res.choices[0].message)\n",
    "\n",
    "    for tool_call in tool_calls:\n",
    "        func_name = tool_call.function.name\n",
    "        function_to_call = funcoes_disponiveis[func_name]\n",
    "        func_args = json.loads(tool_call.function.arguments)\n",
    "        func_return = function_to_call(**func_args)\n",
    "\n",
    "        mensagens.append({\"tool_call_id\": tool_call.id, \"role\": \"tool\", \"name\": func_name, \"content\": func_return})\n",
    "        \n",
    "    segunda_res = client.chat.completions.create(\n",
    "\t\tmessages=mensagens,\n",
    "\t\tmodel='gpt-3.5-turbo'\n",
    "\t)\n",
    "    \n",
    "    mensagens.append(segunda_res.choices[0].message.content)"
   ]
  },
  {
   "cell_type": "code",
   "execution_count": 14,
   "metadata": {},
   "outputs": [
    {
     "data": {
      "text/plain": [
       "'A cotação atual da Ambev (ABEV3) é de R$ 11.73.'"
      ]
     },
     "execution_count": 14,
     "metadata": {},
     "output_type": "execute_result"
    }
   ],
   "source": [
    "segunda_res.choices[0].message.content"
   ]
  }
 ],
 "metadata": {
  "kernelspec": {
   "display_name": ".venv",
   "language": "python",
   "name": "python3"
  },
  "language_info": {
   "codemirror_mode": {
    "name": "ipython",
    "version": 3
   },
   "file_extension": ".py",
   "mimetype": "text/x-python",
   "name": "python",
   "nbconvert_exporter": "python",
   "pygments_lexer": "ipython3",
   "version": "3.10.12"
  }
 },
 "nbformat": 4,
 "nbformat_minor": 2
}
