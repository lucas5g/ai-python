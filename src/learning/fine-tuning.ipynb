{
 "cells": [
  {
   "cell_type": "code",
   "execution_count": 7,
   "metadata": {},
   "outputs": [],
   "source": [
    "import json\n",
    "import openai \n",
    "client = openai.Client()"
   ]
  },
  {
   "cell_type": "code",
   "execution_count": 3,
   "metadata": {},
   "outputs": [],
   "source": [
    "with open('chatbot-resposta.json', encoding=\"utf-8\") as file:\n",
    "    json_respostas = json.load(file)"
   ]
  },
  {
   "cell_type": "code",
   "execution_count": null,
   "metadata": {},
   "outputs": [],
   "source": [
    "json_respostas"
   ]
  },
  {
   "cell_type": "code",
   "execution_count": 34,
   "metadata": {},
   "outputs": [],
   "source": [
    "with open(\"chatbot-respostas.jsonl\", \"w\", encoding=\"utf8\") as file:\n",
    "    for entrada in json_respostas:\n",
    "        res = {\n",
    "            \"resposta\": entrada[\"resposta\"],\n",
    "            \"categoria\": entrada[\"categoria\"],\n",
    "            \"fonte\": \"AsimoBot\",\n",
    "        }\n",
    "\n",
    "        entrada_jsonl = {\n",
    "            \"messages\": [\n",
    "                {\"role\": \"user\", \"content\": entrada[\"pergunta\"]},\n",
    "                {\"role\": \"assistant\", \"content\": json.dumps(res, ensure_ascii=False, indent=2)}\n",
    "            ]\n",
    "        }\n",
    "        json.dump(entrada_jsonl, file, ensure_ascii=False)\n",
    "        file.write('\\n')"
   ]
  },
  {
   "cell_type": "code",
   "execution_count": 35,
   "metadata": {},
   "outputs": [
    {
     "data": {
      "text/plain": [
       "FineTuningJob(id='ftjob-rqjsKfBwcksb9WmY0y9FFXSX', created_at=1721336095, error=Error(code=None, message=None, param=None), fine_tuned_model=None, finished_at=None, hyperparameters=Hyperparameters(n_epochs='auto', batch_size='auto', learning_rate_multiplier='auto'), model='gpt-3.5-turbo-0125', object='fine_tuning.job', organization_id='org-tG7NunY9Kl0JVLInckv9Ve3E', result_files=[], seed=191978173, status='validating_files', trained_tokens=None, training_file='file-3Q8ke3wsi0nAIp7ePRlhaWnS', validation_file=None, estimated_finish=None, integrations=[], user_provided_suffix=None)"
      ]
     },
     "execution_count": 35,
     "metadata": {},
     "output_type": "execute_result"
    }
   ],
   "source": [
    "file = client.files.create(\n",
    "    file=open(\"chatbot-respostas.jsonl\", \"rb\"), purpose=\"fine-tune\"\n",
    ")\n",
    "\n",
    "client.fine_tuning.jobs.create(\n",
    "\ttraining_file=file.id,\n",
    " \tmodel='gpt-3.5-turbo'\n",
    ")\n"
   ]
  },
  {
   "cell_type": "code",
   "execution_count": 10,
   "metadata": {},
   "outputs": [
    {
     "data": {
      "text/plain": [
       "SyncCursorPage[FineTuningJob](data=[FineTuningJob(id='ftjob-oBXMPasBgqzxmtaLpz6eizAI', created_at=1721333805, error=Error(code='invalid_training_file', message='The job failed due to an invalid training file. Expected file to have JSONL format, where every line is a valid JSON dictionary. Line 1 is not a dictionary.', param='training_file'), fine_tuned_model=None, finished_at=None, hyperparameters=Hyperparameters(n_epochs='auto', batch_size='auto', learning_rate_multiplier='auto'), model='gpt-3.5-turbo-0125', object='fine_tuning.job', organization_id='org-tG7NunY9Kl0JVLInckv9Ve3E', result_files=[], seed=2091660033, status='failed', trained_tokens=None, training_file='file-DuUDH6CaikT7l4UNPIjJ4A0g', validation_file=None, estimated_finish=None, integrations=[], user_provided_suffix=None)], object='list', has_more=False)"
      ]
     },
     "execution_count": 10,
     "metadata": {},
     "output_type": "execute_result"
    }
   ],
   "source": [
    "client.fine_tuning.jobs.list()"
   ]
  },
  {
   "cell_type": "code",
   "execution_count": 46,
   "metadata": {},
   "outputs": [
    {
     "name": "stdout",
     "output_type": "stream",
     "text": [
      "{\n",
      "  \"resposta\": \"Para fazer reduce em JavaScript, você pode usar a função reduce() em arrays, passando uma função de callback e um valor inicial.\",\n",
      "  \"categoria\": \"Javascript\",\n",
      "  \"fonte\": \"AsimoBot\"\n",
      "}\n"
     ]
    }
   ],
   "source": [
    "mensagens = [{\"role\": \"user\", \"content\": \"Como fazer reduce em js?\"}]\n",
    "res = client.chat.completions.create(\n",
    "    messages=mensagens,\n",
    "    model=\"ft:gpt-3.5-turbo-0125:personal::9mSi945O\",\n",
    "    # model='gpt-3.5-turbo',\n",
    "    max_tokens=1000,\n",
    "    temperature=0\n",
    ")\n",
    "\n",
    "print(res.choices[0].message.content)\n"
   ]
  },
  {
   "cell_type": "code",
   "execution_count": 41,
   "metadata": {},
   "outputs": [
    {
     "name": "stdout",
     "output_type": "stream",
     "text": [
      "{\n",
      "  \"resposta\": \"O Brasil foi 'descoberto' por Pedro Álvares Cabral em 1500.\",\n",
      "  \"categoria\": \"Outros\",\n",
      "  \"fonte\": \"AsimoBot\"\n",
      "}\n"
     ]
    }
   ],
   "source": []
  }
 ],
 "metadata": {
  "kernelspec": {
   "display_name": ".venv",
   "language": "python",
   "name": "python3"
  },
  "language_info": {
   "codemirror_mode": {
    "name": "ipython",
    "version": 3
   },
   "file_extension": ".py",
   "mimetype": "text/x-python",
   "name": "python",
   "nbconvert_exporter": "python",
   "pygments_lexer": "ipython3",
   "version": "3.10.12"
  }
 },
 "nbformat": 4,
 "nbformat_minor": 2
}
