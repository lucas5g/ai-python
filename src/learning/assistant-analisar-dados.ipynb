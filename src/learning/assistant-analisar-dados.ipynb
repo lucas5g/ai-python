{
 "cells": [
  {
   "cell_type": "code",
   "execution_count": 2,
   "metadata": {},
   "outputs": [],
   "source": [
    "import openai \n",
    "import pandas as pd\n"
   ]
  },
  {
   "cell_type": "code",
   "execution_count": 3,
   "metadata": {},
   "outputs": [],
   "source": [
    "dataset = pd.read_csv('supermarket_sales.csv')"
   ]
  },
  {
   "cell_type": "code",
   "execution_count": 32,
   "metadata": {},
   "outputs": [
    {
     "data": {
      "text/plain": [
       "np.float64(6.9727)"
      ]
     },
     "execution_count": 32,
     "metadata": {},
     "output_type": "execute_result"
    }
   ],
   "source": [
    "dataset.head(5)\n",
    "dataset['Rating'].mean()"
   ]
  },
  {
   "cell_type": "code",
   "execution_count": 23,
   "metadata": {},
   "outputs": [],
   "source": [
    "file = client.files.create(\n",
    "\tfile=open('supermarket_sales.csv', 'rb'),\n",
    "\tpurpose=\"assistants\"\n",
    ")"
   ]
  },
  {
   "cell_type": "code",
   "execution_count": 25,
   "metadata": {},
   "outputs": [],
   "source": [
    "client = openai.Client()\n",
    "assistant = client.beta.assistants.create(\n",
    "    name=\"Analista Financeiro\",\n",
    "    instructions=\"Você é um analista financeiro de um supermercado. Você deve utlizar os dados\\\n",
    "     \t.csv informados relativos as vendas do supermercado para realizar as suas análises\",\n",
    "    tools=[{\"type\": \"code_interpreter\"}],\n",
    "    tool_resources={'code_interpreter': {'file_ids': [file.id]}},\n",
    "    model=\"gpt-3.5-turbo\",\n",
    ")"
   ]
  },
  {
   "cell_type": "code",
   "execution_count": 26,
   "metadata": {},
   "outputs": [],
   "source": [
    "thread = client.beta.threads.create()"
   ]
  },
  {
   "cell_type": "code",
   "execution_count": 27,
   "metadata": {},
   "outputs": [],
   "source": [
    "# texto_mensagem = 'Qual é o rating médio das vendas do supermercado? O arquivo está no formato csv.'\n",
    "message = client.beta.threads.messages.create(\n",
    "\tthread_id=thread.id,\n",
    " \trole=\"user\",\n",
    "\tcontent=texto_mensagem\n",
    ")"
   ]
  },
  {
   "cell_type": "code",
   "execution_count": 28,
   "metadata": {},
   "outputs": [],
   "source": [
    "run = client.beta.threads.runs.create(\n",
    "\tthread_id=thread.id,\n",
    "\tassistant_id=assistant.id,\n",
    "\tinstructions=\"O nome do usuário é Adriano Soares e ele é um usuário Premium.\"\n",
    ")"
   ]
  },
  {
   "cell_type": "code",
   "execution_count": 29,
   "metadata": {},
   "outputs": [],
   "source": [
    "import time \n",
    "\n",
    "while run.status in [\"queued\", \"in_progress\", \"cancelling\"]:\n",
    "    time.sleep(1)\n",
    "    run = client.beta.threads.runs.retrieve(\n",
    "\t\tthread_id=thread.id,\n",
    "\t\trun_id=run.id\n",
    "\t)"
   ]
  },
  {
   "cell_type": "code",
   "execution_count": 12,
   "metadata": {},
   "outputs": [
    {
     "data": {
      "text/plain": [
       "'completed'"
      ]
     },
     "execution_count": 12,
     "metadata": {},
     "output_type": "execute_result"
    }
   ],
   "source": [
    "run.status"
   ]
  },
  {
   "cell_type": "code",
   "execution_count": 30,
   "metadata": {},
   "outputs": [
    {
     "name": "stdout",
     "output_type": "stream",
     "text": [
      "SyncCursorPage[Message](data=[Message(id='msg_WMpc4x7Azi09OodBTdtEcGyc', assistant_id='asst_IH5VrYjgUKT7Ph5qhEF07Hyy', attachments=[], completed_at=None, content=[TextContentBlock(text=Text(annotations=[], value='O rating médio das vendas do supermercado é aproximadamente 6.97. Se precisar de mais alguma informação ou análise, não hesite em me avisar!'), type='text')], created_at=1721415167, incomplete_at=None, incomplete_details=None, metadata={}, object='thread.message', role='assistant', run_id='run_YoarKwERQTzK77ttg4rUEu88', status=None, thread_id='thread_lUXPrBuSs4GYkDW7s9hRHJ5t'), Message(id='msg_m8GWhQR12IdfriYffyLEcSaL', assistant_id='asst_IH5VrYjgUKT7Ph5qhEF07Hyy', attachments=[], completed_at=None, content=[TextContentBlock(text=Text(annotations=[], value=\"O arquivo CSV fornecido contém várias colunas, incluindo 'Rating', que é a coluna que usaremos para calcular a média dos ratings de vendas do supermercado. Vou agora calcular o rating médio das vendas do supermercado com base nos dados fornecidos.\"), type='text')], created_at=1721415165, incomplete_at=None, incomplete_details=None, metadata={}, object='thread.message', role='assistant', run_id='run_YoarKwERQTzK77ttg4rUEu88', status=None, thread_id='thread_lUXPrBuSs4GYkDW7s9hRHJ5t'), Message(id='msg_ZtSJbWcGph7xsSh1YgauYcfh', assistant_id='asst_IH5VrYjgUKT7Ph5qhEF07Hyy', attachments=[], completed_at=None, content=[TextContentBlock(text=Text(annotations=[], value='Para descobrir o rating médio das vendas do supermercado, vou primeiro carregar e analisar o conteúdo do arquivo CSV fornecido. Em seguida, realizarei os cálculos necessários para encontrar a média dos ratings de vendas do supermercado. Vamos começar carregando o arquivo.'), type='text')], created_at=1721415160, incomplete_at=None, incomplete_details=None, metadata={}, object='thread.message', role='assistant', run_id='run_YoarKwERQTzK77ttg4rUEu88', status=None, thread_id='thread_lUXPrBuSs4GYkDW7s9hRHJ5t'), Message(id='msg_sp7qBeC8R6FuSLmlUkjl5XxQ', assistant_id=None, attachments=[], completed_at=None, content=[TextContentBlock(text=Text(annotations=[], value='Qual é o rating médio das vendas do supermercado? O arquivo está no formato csv.'), type='text')], created_at=1721415155, incomplete_at=None, incomplete_details=None, metadata={}, object='thread.message', role='user', run_id=None, status=None, thread_id='thread_lUXPrBuSs4GYkDW7s9hRHJ5t')], object='list', first_id='msg_WMpc4x7Azi09OodBTdtEcGyc', last_id='msg_sp7qBeC8R6FuSLmlUkjl5XxQ', has_more=False)\n"
     ]
    }
   ],
   "source": [
    "if run.status == 'completed':\n",
    "    mensagens = client.beta.threads.messages.list(\n",
    "\t\tthread_id=thread.id\n",
    "\t)\n",
    "    print(mensagens)\n",
    "\n",
    "else:\n",
    "    print('Error')"
   ]
  },
  {
   "cell_type": "code",
   "execution_count": 31,
   "metadata": {},
   "outputs": [
    {
     "name": "stdout",
     "output_type": "stream",
     "text": [
      "O rating médio das vendas do supermercado é aproximadamente 6.97. Se precisar de mais alguma informação ou análise, não hesite em me avisar!\n"
     ]
    }
   ],
   "source": [
    "print(mensagens.data[0].content[0].text.value)"
   ]
  },
  {
   "cell_type": "code",
   "execution_count": 37,
   "metadata": {},
   "outputs": [],
   "source": [
    "run_steps = client.beta.threads.runs.steps.list(\n",
    "\tthread_id=thread.id,\n",
    "\trun_id=run.id \n",
    ")"
   ]
  },
  {
   "cell_type": "code",
   "execution_count": 38,
   "metadata": {},
   "outputs": [
    {
     "data": {
      "text/plain": [
       "RunStep(id='step_L7pRqS3p7vDIlFeRYJfhRlRR', assistant_id='asst_lMG6CYAx5Ov4yOS9giKjozCd', cancelled_at=None, completed_at=1721412818, created_at=1721412817, expired_at=None, failed_at=None, last_error=None, metadata=None, object='thread.run.step', run_id='run_QihfbFFCBrAY70NN0CTuOZhu', status='completed', step_details=MessageCreationStepDetails(message_creation=MessageCreation(message_id='msg_3nOehgdr6Ud0f6dHRzIDCJUd'), type='message_creation'), thread_id='thread_C4hUXhRs88lEBt5vTNn7nc0z', type='message_creation', usage=Usage(completion_tokens=38, prompt_tokens=477, total_tokens=515), expires_at=None)"
      ]
     },
     "execution_count": 38,
     "metadata": {},
     "output_type": "execute_result"
    }
   ],
   "source": [
    "run_steps\n",
    "run_steps.data[0]"
   ]
  },
  {
   "cell_type": "code",
   "execution_count": 42,
   "metadata": {},
   "outputs": [
    {
     "name": "stdout",
     "output_type": "stream",
     "text": [
      "=== step:  message_creation\n",
      "=== step:  tool_calls\n",
      "----\n",
      "from math import comb\n",
      "\n",
      "# Definindo os parâmetros\n",
      "n = 1000\n",
      "k = 150\n",
      "p = 1/6\n",
      "\n",
      "# Calculando a probabilidade\n",
      "probabilidade = comb(n, k) * (p ** k) * ((1-p) ** (n-k))\n",
      "probabilidade\n",
      "----\n",
      "Result\n",
      "[]\n",
      "=== step:  message_creation\n"
     ]
    }
   ],
   "source": [
    "for step in run_steps.data:\n",
    "    print('=== step: ', step.step_details.type)\n",
    "    \n",
    "    if step.step_details.type == 'tool_calls':\n",
    "        for tool_call in step.step_details.tool_calls:\n",
    "            print('----')\n",
    "            print(tool_call.code_interpreter.input)\n",
    "            print('----')\n",
    "            print('Result')\n",
    "            print(tool_call.code_interpreter.outputs)\n",
    "    "
   ]
  }
 ],
 "metadata": {
  "kernelspec": {
   "display_name": ".venv",
   "language": "python",
   "name": "python3"
  },
  "language_info": {
   "codemirror_mode": {
    "name": "ipython",
    "version": 3
   },
   "file_extension": ".py",
   "mimetype": "text/x-python",
   "name": "python",
   "nbconvert_exporter": "python",
   "pygments_lexer": "ipython3",
   "version": "3.10.12"
  }
 },
 "nbformat": 4,
 "nbformat_minor": 2
}
