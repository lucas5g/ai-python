{
 "cells": [
  {
   "cell_type": "code",
   "execution_count": 1,
   "metadata": {},
   "outputs": [],
   "source": [
    "import openai "
   ]
  },
  {
   "cell_type": "code",
   "execution_count": 2,
   "metadata": {},
   "outputs": [],
   "source": [
    "client = openai.Client()\n"
   ]
  },
  {
   "cell_type": "code",
   "execution_count": 11,
   "metadata": {},
   "outputs": [
    {
     "name": "stdout",
     "output_type": "stream",
     "text": [
      "Era o ano de 2050 e a humanidade finalmente havia conseguido enviar uma missão tripulada para Marte. A nave espacial, batizada de \"Explorador Vermelho\", estava equipada com tecnologia de ponta e uma equipe de astronautas altamente treinados.\n",
      "\n",
      "A viagem até Marte durou meses, mas finalmente a nave chegou ao planeta vermelho. Ao pousar na superfície marciana, os astronautas ficaram maravilhados com a paisagem árida e desolada, mas ao mesmo tempo fascinante.\n",
      "\n",
      "Durante os dias seguintes, os astronautas exploraram a superfície de Marte, coletando amostras de solo e rochas, estudando a geologia do planeta e procurando por sinais de vida. Eles também realizaram experimentos científicos para estudar a atmosfera marciana e a possibilidade de colonização futura.\n",
      "\n",
      "No entanto, a missão não foi sem desafios. Uma tempestade de poeira atingiu a nave espacial, danificando parte de seus sistemas e colocando em risco a vida dos astronautas. Com coragem e determinação, a equipe conseguiu fazer os reparos necessários e continuar com a missão.\n",
      "\n",
      "Após semanas de exploração, os astronautas finalmente retornaram à Terra, trazendo consigo valiosas descobertas e experiências que ajudariam a humanidade a entender melhor o planeta vermelho e a se preparar para futuras missões de colonização.\n",
      "\n",
      "A viagem a Marte foi um marco na história da exploração espacial e um passo importante rumo à conquista do espaço. Os astronautas que participaram da missão foram recebidos como heróis e suas histórias de coragem e determinação inspiraram gerações futuras a sonhar com novas fronteiras a serem exploradas."
     ]
    }
   ],
   "source": [
    "messages = [\n",
    "\t# {'role':'user', 'content':'O que é uma maça em 5 palavras'}\n",
    " \t{'role':'user', 'content':'crie uma historia sobre uma viagem a marte'}\n",
    " \n",
    "]\n",
    "\n",
    "res = client.chat.completions.create(\n",
    "\tmessages=messages,\n",
    "\tmodel='gpt-3.5-turbo',\n",
    " \ttemperature=0,\n",
    "  \tstream=True\n",
    ")\n",
    "\n",
    "for stream in res:\n",
    "    text = stream.choices[0].delta.content \n",
    "    if text:\n",
    "    \tprint(text, end='')\n"
   ]
  }
 ],
 "metadata": {
  "kernelspec": {
   "display_name": ".venv",
   "language": "python",
   "name": "python3"
  },
  "language_info": {
   "codemirror_mode": {
    "name": "ipython",
    "version": 3
   },
   "file_extension": ".py",
   "mimetype": "text/x-python",
   "name": "python",
   "nbconvert_exporter": "python",
   "pygments_lexer": "ipython3",
   "version": "3.10.12"
  }
 },
 "nbformat": 4,
 "nbformat_minor": 2
}
