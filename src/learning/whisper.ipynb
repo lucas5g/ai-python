{
 "cells": [
  {
   "cell_type": "code",
   "execution_count": 2,
   "metadata": {},
   "outputs": [],
   "source": [
    "import openai\n",
    "client = openai.Client()"
   ]
  },
  {
   "cell_type": "code",
   "execution_count": 4,
   "metadata": {},
   "outputs": [
    {
     "data": {
      "text/plain": [
       "'Seja muito bem-vindo ou bem-vinda ao nosso curso completo de Python, aqui da Asimov Academy. Eu e minha equipe ficamos muito felizes que vocês tenham escolhido iniciar no mundo da programação, especificamente com a linguagem Python, aqui com a gente. Pode ter certeza que a gente colocou muito carinho e muita dedicação para construir esse material. Além dos conhecimentos técnicos que a gente vai apresentar sobre a linguagem e programação em si, eu também coloquei grande parte da minha experiência e minha vivência para compartilhar com vocês ao longo desse treinamento. Para quem não me conhece ainda, meu nome é Rodrigo Soares Tadewald e eu não sou programador de origem. Na verdade, eu me formei como engenheiro e utilizei a programação dentro da minha carreira no mercado financeiro como analista de dados. E essa é a grande mágica da programação. Vocês não precisam utilizar ela única e exclusivamente para desenvolver software. Na verdade, ela pode ser usada para o que vocês quiserem no dia a dia de vocês, muitas vezes como uma habilidade secundária. Ela é muito mais ampla e muito mais poderosa do que isso. A programação é, sem sombra de dúvidas, a habilidade do futuro. Tem gente que já compara e diz que a programação é o novo inglês. Ou seja, até anos atrás, era necessário que a gente tivesse inglês para poder entrar no mercado de trabalho. Hoje, com certeza, além do inglês, a gente tem que saber programar.'"
      ]
     },
     "execution_count": 4,
     "metadata": {},
     "output_type": "execute_result"
    }
   ],
   "source": [
    "audio = open(\"files/audio_asimov.mp3\", \"rb\")\n",
    "\n",
    "transcriptions = client.audio.transcriptions.create(\n",
    "\tmodel=\"whisper-1\",\n",
    "\tfile=audio,\n",
    "\tprompt=\"Essa é a transcrição de uma aula da Asimov Academy. O professor se chama Rodrigo Soares Tadewald.\"\n",
    ")\n",
    "\n",
    "transcriptions.text"
   ]
  }
 ],
 "metadata": {
  "kernelspec": {
   "display_name": ".venv",
   "language": "python",
   "name": "python3"
  },
  "language_info": {
   "codemirror_mode": {
    "name": "ipython",
    "version": 3
   },
   "file_extension": ".py",
   "mimetype": "text/x-python",
   "name": "python",
   "nbconvert_exporter": "python",
   "pygments_lexer": "ipython3",
   "version": "3.10.12"
  }
 },
 "nbformat": 4,
 "nbformat_minor": 2
}
