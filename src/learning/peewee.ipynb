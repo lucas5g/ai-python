{
 "cells": [
  {
   "cell_type": "code",
   "execution_count": 2,
   "metadata": {},
   "outputs": [],
   "source": [
    "from peewee import SqliteDatabase, Model, CharField, DateTimeField, IntegerField\n",
    "from datetime import datetime\n",
    "db = SqliteDatabase('chat.db')\n",
    "\n",
    "\n",
    "class User(Model):\n",
    "    name = CharField()\n",
    "    age = IntegerField()\n",
    "    class Meta:\n",
    "\t    database = db # This model uses the \"people.db\" database.\n",
    "\n",
    "     \n",
    "db.connect()\n",
    "db.create_tables([User])\n",
    "\n",
    "\n"
   ]
  },
  {
   "cell_type": "code",
   "execution_count": 4,
   "metadata": {},
   "outputs": [],
   "source": [
    "user = User.create(name='mark', age=51).save()"
   ]
  },
  {
   "cell_type": "code",
   "execution_count": 7,
   "metadata": {},
   "outputs": [
    {
     "data": {
      "text/plain": [
       "'mark'"
      ]
     },
     "execution_count": 7,
     "metadata": {},
     "output_type": "execute_result"
    }
   ],
   "source": [
    "# User.get(User.id == 3)\n",
    "user = User.get_by_id(3)\n",
    "f'{user.name}'"
   ]
  },
  {
   "cell_type": "markdown",
   "metadata": {},
   "source": [
    "user"
   ]
  },
  {
   "cell_type": "code",
   "execution_count": 64,
   "metadata": {},
   "outputs": [
    {
     "name": "stdout",
     "output_type": "stream",
     "text": [
      "Hello\n"
     ]
    }
   ],
   "source": [
    "for chat in Chat.select():\n",
    "    print(chat.name)"
   ]
  },
  {
   "cell_type": "code",
   "execution_count": 56,
   "metadata": {},
   "outputs": [
    {
     "name": "stdout",
     "output_type": "stream",
     "text": [
      "test None\n",
      "outro-id None\n"
     ]
    }
   ],
   "source": [
    "for message in Message.select(Message.chat_id).distinct():\n",
    "    print(message.chat_id, message.content)\n"
   ]
  },
  {
   "cell_type": "code",
   "execution_count": null,
   "metadata": {},
   "outputs": [],
   "source": []
  }
 ],
 "metadata": {
  "kernelspec": {
   "display_name": ".venv",
   "language": "python",
   "name": "python3"
  },
  "language_info": {
   "codemirror_mode": {
    "name": "ipython",
    "version": 3
   },
   "file_extension": ".py",
   "mimetype": "text/x-python",
   "name": "python",
   "nbconvert_exporter": "python",
   "pygments_lexer": "ipython3",
   "version": "3.10.12"
  }
 },
 "nbformat": 4,
 "nbformat_minor": 2
}
