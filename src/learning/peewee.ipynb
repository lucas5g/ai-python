{
 "cells": [
  {
   "cell_type": "code",
   "execution_count": 61,
   "metadata": {},
   "outputs": [],
   "source": [
    "from peewee import SqliteDatabase, Model, CharField, DateTimeField\n",
    "from datetime import datetime\n",
    "db = SqliteDatabase('chat.db')\n",
    "\n",
    "\n",
    "class Chat(Model):\n",
    "    name = CharField()\n",
    "    history = CharField()\n",
    "    created_at = DateTimeField()\n",
    "    updated_at = DateTimeField()\n",
    "    class Meta:\n",
    "\t    database = db # This model uses the \"people.db\" database.\n",
    "\n",
    "     \n",
    "db.connect()\n",
    "db.create_tables([Chat])\n",
    "\n",
    "\n"
   ]
  },
  {
   "cell_type": "code",
   "execution_count": 63,
   "metadata": {},
   "outputs": [
    {
     "data": {
      "text/plain": [
       "1"
      ]
     },
     "execution_count": 63,
     "metadata": {},
     "output_type": "execute_result"
    }
   ],
   "source": [
    "Chat(name='Hello', history=[{'role': 'user', 'content': 'Hello, good day, can you help me?'}, {'role': 'assistant', 'content': 'Good day! Of course, I\\'m here to help. What is the problem or what do you need help with? I\\'m ready to answer your questions or provide information.'}], created_at=datetime.now(), updated_at=datetime.now()).save()\n",
    "# Message(chat_id='outro-id', role=\"user\", content=\"Bom dia test. como vai?\").save()\n",
    "# Message(chat_id='outro-id', role=\"assistant\", content=\"Vou bem, como posso ajudar?\").save()\n"
   ]
  },
  {
   "cell_type": "code",
   "execution_count": 64,
   "metadata": {},
   "outputs": [
    {
     "name": "stdout",
     "output_type": "stream",
     "text": [
      "Hello\n"
     ]
    }
   ],
   "source": [
    "for chat in Chat.select():\n",
    "    print(chat.name)"
   ]
  },
  {
   "cell_type": "code",
   "execution_count": 56,
   "metadata": {},
   "outputs": [
    {
     "name": "stdout",
     "output_type": "stream",
     "text": [
      "test None\n",
      "outro-id None\n"
     ]
    }
   ],
   "source": [
    "for message in Message.select(Message.chat_id).distinct():\n",
    "    print(message.chat_id, message.content)\n"
   ]
  },
  {
   "cell_type": "code",
   "execution_count": null,
   "metadata": {},
   "outputs": [],
   "source": []
  }
 ],
 "metadata": {
  "kernelspec": {
   "display_name": ".venv",
   "language": "python",
   "name": "python3"
  },
  "language_info": {
   "codemirror_mode": {
    "name": "ipython",
    "version": 3
   },
   "file_extension": ".py",
   "mimetype": "text/x-python",
   "name": "python",
   "nbconvert_exporter": "python",
   "pygments_lexer": "ipython3",
   "version": "3.10.12"
  }
 },
 "nbformat": 4,
 "nbformat_minor": 2
}
