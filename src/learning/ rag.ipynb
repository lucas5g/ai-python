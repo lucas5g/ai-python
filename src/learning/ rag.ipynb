{
 "cells": [
  {
   "cell_type": "code",
   "execution_count": 36,
   "metadata": {},
   "outputs": [],
   "source": [
    "#IMPORTAÇÃO\n",
    "from langchain_community.document_loaders import WebBaseLoader\n",
    "from langchain_text_splitters import RecursiveCharacterTextSplitter\n",
    "from langchain_chroma import Chroma\n",
    "from langchain_openai import ChatOpenAI, OpenAIEmbeddings\n",
    "from langchain_core.prompts import ChatPromptTemplate\n",
    "from langchain.chains.combine_documents import create_stuff_documents_chain\n",
    "from langchain.chains import create_retrieval_chain\n",
    "\n"
   ]
  },
  {
   "cell_type": "code",
   "execution_count": 38,
   "metadata": {},
   "outputs": [],
   "source": [
    "llm = ChatOpenAI(model=\"gpt-3.5-turbo\")\n",
    "\n"
   ]
  },
  {
   "cell_type": "code",
   "execution_count": 11,
   "metadata": {},
   "outputs": [
    {
     "data": {
      "text/plain": [
       "(11020,\n",
       " [Document(metadata={'source': 'https://defensoria.mg.def.br/defensoria-publica-reune-especialistas-para-discutir-o-papel-do-conselho-tutelar-na-protecao-da-crianca-e-do-adolescente-vitima-de-violencia/', 'title': '  DPMG reúne especialistas para discutir o papel do Conselho Tutelar na proteção da criança e do adolescente vítima de violência', 'language': 'pt-br'}, page_content='\\n\\n\\n\\n\\n\\n\\n  DPMG reúne especialistas para discutir o papel do Conselho Tutelar na proteção da criança e do adolescente vítima de violência\\n\\n\\n\\n\\n\\n\\n\\n\\n\\n\\n\\n\\n\\n\\n\\n\\n\\n\\n\\n\\n\\n\\n\\n\\n\\n\\n\\n\\n\\n\\n\\n\\n\\n\\n\\n\\n\\n\\n\\n\\n\\n\\n\\n\\n\\n\\n\\n\\n\\n\\n\\n\\n\\n\\n\\n\\n\\n\\n\\n\\n\\n\\n\\n\\n\\n\\n\\n\\n\\n\\n \\n\\n\\nVisão\\nMissão\\nValores\\n\\n\\n\\n\\n\\n\\n\\n\\n\\nFale com a Defensoria\\n\\n\\n\\n\\n\\t\\t\\t\\t\\t\\t\\t\\tZoom\\u2002-A\\u2002\\n\\t\\t\\t\\t\\t\\t\\t\\t+A\\u2002|\\u2002\\n\\t\\t\\t\\t\\t\\t\\t\\n\\n\\t\\t\\t\\t\\t\\t\\t\\tContraste\\u2002|\\u2002\\n\\t\\t\\t\\t\\t\\t\\t\\n\\nMapa do Site\\n\\n\\n\\n\\n\\n\\n\\n\\n\\n\\n\\n\\n\\n\\n\\n\\nDPMG\\n\\nPerfil\\nPlanejamento Estratégico\\nEstrutura Organizacional\\n\\nApresentação\\nOrganograma institucional\\nÓrgãos de administração superior\\nÓrgãos de atuação\\nÓrgãos de execução\\nÓrgãos de apoio\\nQuem é quem\\n\\n\\nEscola Superior\\nLegislação\\nHistórico\\n\\n\\nCorpo Gestor\\n\\nDefensoria Pública-Geral\\n\\nApresentação DPG\\n\\nPerfil DPG\\n\\n\\nGabinete e Assessorias\\nBoletins da DPMG\\nRevista DPMG\\n\\n\\nSubdefensoria-Geral\\n\\nApresentação SubDPG\\n\\nPerfil SubDPG\\n\\n\\n\\n\\nConselho Superior\\n\\nAtribuições\\nComposição CS\\n\\n\\nCorregedoria-Geral\\n\\nApresentação CG\\n\\nPerfil Corregedor-Geral da DPMG\\n\\n\\nRegimento interno CG\\nContato CG\\nCNCG – DPE/DF/DPU\\n\\n\\n\\n\\nUnidades\\nServiços\\n\\nCível\\nConsumidor\\nCriminal\\nDefesa da Mulher\\nDireitos Humanos\\nFamília e Sucessões\\nCriança e Adolescente\\nJustiça Militar\\nPessoa com Deficiência\\nPessoa Idosa\\nSaúde\\nSegunda Instância e Tribunais Superiores\\n\\n\\nProjetos\\n\\nA Defensoria vai até você\\nAlém da Culpa\\nAprendendo a Conciliar\\nAudiências de Custódia\\nCasamento Comunitário\\nCasamento Igualitário\\nConciliar: Só Depende de Você\\nDefensoras Populares\\nDefensoria Itinerante\\nDefensoria no Lar\\nDefensoria no PPCAAM\\nDia Mundial dos Pobres\\nDireito a Ser Dono\\nDireito a Ter Pai\\nEscola de Convivência Familiar\\nGestação Legal\\nInclusão Verde Mundo – Rede em Proteção\\nMESC – Paz em Ação\\nMutirão das Famílias\\nOportunidade\\nPrenome e Gênero das travestis e transexuais\\nProteção Integral\\nRealização Exames de DNA\\n\\n\\nEspaço Cidadão\\n\\nUnidades da Defensoria de Minas\\nDocumentos para o Atendimento\\nCritérios atendimento\\nPerguntas Frequentes\\nConcursos da DPMG\\nEstágio\\nLei Geral de Proteção de Dados\\nCartilhas sobre direitos\\nCartilha de Consulta a Processos\\nEstudos e pesquisas\\nInformativos temáticos\\nRevista DPMG\\n\\n\\nTransparência\\nImprensa\\n\\nAscom\\nDeu na mídia\\nEspeciais\\nIdentidade visual\\nNotícias\\n\\n\\n\\n\\n\\n\\n\\n\\n\\n\\nFale com a Defensoria\\n\\n\\n\\n\\n\\n\\n\\n\\n\\n\\n\\n\\n\\n\\t\\t\\t\\t\\t\\t\\t\\t\\tPesquisa de Satisfação\\t\\t\\t\\t\\t\\t\\t\\t\\n\\n\\n\\n\\n\\t\\t\\t\\t\\t\\t\\t\\tValidar Documento\\n\\t\\t\\t\\t\\t\\t\\t\\n\\n\\n\\n\\n\\t\\t\\t\\t\\t\\t\\t\\tSistema de Gerenciamento Institucional\\n\\t\\t\\t\\t\\t\\t\\t\\n\\n\\n\\n\\n\\t\\t\\t\\t\\t\\t\\t\\tDiário Oficial\\n\\t\\t\\t\\t\\t\\t\\t\\n\\n\\n\\n\\n\\t\\t\\t\\t\\t\\t\\t\\tLei Geral de Proteção de Dados\\n\\t\\t\\t\\t\\t\\t\\t\\n\\n\\n\\n\\n\\t\\t\\t\\t\\t\\t\\t\\tSistema Eletrônico de Informações\\n\\t\\t\\t\\t\\t\\t\\t\\n\\n\\n\\n\\n\\n\\n\\n\\n\\n\\n\\nDPMG reúne especialistas para discutir o papel do Conselho Tutelar na proteção da criança e do adolescente vítima de violência\\n\\nPor Assessoria de Comunicação em 1 de agosto de 2024\\n\\n\\n\\n\\n\\n\\n\\n\\nA Defensoria Pública de Minas Gerais, por meio da sua Escola Superior (Esdep) e iniciativa do Conselho Municipal dos Direitos da Criança e do Adolescente de BH, da Diretoria de Políticas para Crianças e Adolescentes (DPCA), em parceria com o Ministério Público de Minas Gerais e a Polícia Civil de Minas Gerais, promove o seminário “O papel do Conselho Tutelar na proteção da criança e do adolescente vítima de violência: um diálogo sobre a Lei nº 13.431/17”. O evento será realizado no dia 7 de agosto, presencialmente, no auditório da DPMG, localizado na Rua dos Guajajaras, 1.707, 2º andar, bairro Barro Preto, \\xa0em Belo Horizonte.\\nO seminário terá início às 8h30 com a abertura oficial. Na sequência, serão abordados “Aspectos teóricos essenciais do sistema de proteção de crianças e adolescentes vítimas e testemunhas de crimes”. Participa como palestrante a delegada chefe da Divisão Especializada em Orientação e Proteção à Criança e Adolescente, Renata Ribeiro Fagundes. A mediação será feita pela coordenadora estadual de Proteção e Defesa dos Direitos da Criança e do Adolescente da DPMG, defensora pública Daniele Bellettato Nesrala.\\nPara a exposição sobre os “Aspectos práticos da revelação espontânea”, participa a analista da Polícia Civil de Minas Gerais e psicóloga da Delegacia Especializada de Proteção à Criança e Adolescentes, Gleisse Messias. A coordenadora da Defensoria Especializada dos Direitos das Crianças e dos Adolescentes – Cível (DEDICA-Cível), defensora pública Eden Mattar, e o presidente do Conselho Municipal dos Direitos da Criança e do Adolescente (CMDCA), Rodrigo Zacarias, serão os responsáveis pela mediação.\\nA programação inclui ainda oficinas práticas, além de encaminhamentos e protocolos que serão mediados pela defensora pública Daniele Bellettato e por Rodrigo Zacarias.\\nPúblico-alvo e inscrições\\nO evento é destinado a conselheiros e conselheiras tutelares. Clique aqui para realizar a sua inscrição até o dia 6 de agosto.\\nSobre a Lei nº 13.431/17\\nA Lei nº 13.431/17, também conhecida como Lei da Escuta Protegida, estabelece o Sistema de Garantia de Direitos da Criança e do Adolescente vítima ou testemunha de violência.\\nEsta lei tem como objetivo principal proteger crianças e adolescentes durante todo o processo de denúncia e julgamento de crimes, prevenindo a revitimização. Entre suas principais inovações, a lei define as modalidades de violência (física, psicológica, sexual e institucional), e estabelece procedimentos específicos para a escuta especializada e o depoimento especial.\\nA escuta especializada é realizada por profissionais da rede de proteção em um ambiente acolhedor, enquanto o depoimento especial é conduzido pela justiça, garantindo a privacidade e segurança da criança ou adolescente durante todo o processo.\\n\\n\\n\\n\\n\\n\\n\\n                Compartilhar com:\\n                \\n\\n\\n\\n\\n\\n\\n\\n\\n\\n\\n\\n\\n\\n\\n\\n\\n\\n\\n\\n\\n\\n\\n\\n\\n\\n\\n\\n\\n\\n\\n\\n\\n\\n\\n\\n\\nTags:\\n\\n\\n\\n\\n\\n\\nPOST ANTERIOR \\n\\nPRÓXIMO POST \\n\\n\\n\\n OUTRAS NOTÍCIAS RELACIONADAS\\n\\n\\n\\n\\n\\n\\nDefensoria Pública reúne especialistas para discutir desafios e soluções contra a violência cibernética de gênero...\\n\\n\\n\\n\\n\\nSeis meses após o desastre de Brumadinho, Defensoria Pública de MG ultrapassa 2.500 atendimentos e viabiliza acordos em favor dos atingidos...\\n\\n\\n\\n\\n\\nCoronavírus: Defensoria Pública de Minas Gerais atua em regime de plantão no período de 19 a 27 de março...\\n\\n\\n\\n\\n\\nDefensoria Pública mineira participa de curso do TCEMG voltado para orientação de prestações de contas das APACs...\\n\\n\\n\\n\\n\\nDefensoria Pública participa de entrega de verbas pecuniárias a projetos sociais...\\n\\n\\n\\n\\n\\n\\n\\n\\n\\n\\n\\n\\n \\n\\n\\n \\n\\n\\n \\n\\n\\n \\n\\n\\n \\n\\n\\n \\n\\n\\n\\n\\n\\n\\n\\n\\nDPMGPerfil\\nPlanejamento Estratégico\\nEstrutura Organizacional\\n\\nApresentação\\nOrganograma institucional\\nÓrgãos de administração superior\\nÓrgãos de apoio\\nÓrgãos de atuação\\nÓrgãos de execução\\nQuem é quem\\n\\n\\nEscola Superior\\nLegislação\\nHistórico\\nCorpo GestorDefensoria Pública-Geral\\n\\nApresentação DPG\\n\\nPerfil DPG\\n\\n\\nGabinete e Assessorias\\nBoletins da DPMG\\nRevista DPMG\\n\\n\\nSubdefensoria-Geral\\n\\nApresentação SubDPG\\n\\nPerfil SubDPG\\n\\n\\n\\n\\nConselho Superior\\n\\nAtribuições\\nComposição CS\\n\\n\\nCorregedoria-Geral\\n\\nApresentação CG\\n\\nPerfil Corregedor-Geral da DPMG\\n\\n\\nRegimento interno CG\\nCNCG – DPE/DF/DPU\\nContato CG\\n\\n\\n \\n\\nUnidadesMunicípios com DPMG\\nServiçosCível\\nConsumidor\\nCriminal\\nDefesa da Mulher\\nDireitos Humanos\\nFamília e Sucessões\\nPessoa Idosa\\nCriança e Adolescente\\nJustiça Militar\\nPessoa com Deficiência\\nSaúde\\nSegunda Instância e Tribunais Superiores\\n \\n\\nAçõesA Defensoria vai até você\\nAlém da Culpa\\nAprendendo a Conciliar\\nAudiências de Custódia\\nCasamento Comunitário\\nCasamento Igualitário\\nConciliar: Só Depende de Você\\nDefensoras Populares\\nDefensoria Itinerante\\nDefensoria no Lar\\nDefensoria no PPCAAM\\nDia Mundial dos Pobres\\nDireito a Ser Dono\\nDireito a Ter Pai\\nEscola de Convivência Familiar\\nGestação Legal\\nInclusão Verde Mundo – Rede em Proteção\\nMESC – Paz em Ação\\nMutirão das Famílias\\nOportunidade\\nPrenome e Gênero das travestis e transexuais\\nProteção Integral\\nRealização Exames de DNA\\n \\n\\nEspaço CidadãoCartilhas SEEU\\nCartilhas sobre direitos\\nConcursos da DPMG\\nCritérios de atendimento\\nDocumentos p/ Atendimento\\nEstágios e Processos Seletivos – CESV\\nInformativos temáticos\\nLei Geral de Proteção de Dados\\nPerguntas Frequentes\\nRevista da Defensoria\\nUnidades da Defensoria\\n \\n\\nTransparênciaAcesso à informação\\nCronologia de pagamentos\\nDespesa Pública\\nExecução orçamentária\\nGestão de documentos\\nLOA e LDO\\nObras\\nPlanejamento Estratégico\\nPlano Geral de Atuação\\nPrestação de Contas Anual\\nProdutividade\\nProjetos Convênios e Parcerias\\nQuadro de Pessoas\\nReceita Pública\\nRelação de contratos\\nRelação das licitações\\nRelatório de Remuneração\\nRelatório de Gestão\\nRelatório de Gestão Fiscal\\nImprensaAscom\\nDeu na mídia\\nEspeciais\\nIdentidade Visual\\nNotícias\\n \\n\\n\\n\\n\\n\\n\\n\\n\\n\\nRua dos Guajajaras, 1707 - Barro Preto\\nBelo Horizonte, Minas Gerais\\nCEP:\\u200230.180.099\\n(31) 3526-0500\\n\\n\\n\\n\\n\\n\\n\\n\\n\\n\\n\\nBaixe o App da DPMG\\n\\n\\n\\n\\n\\n\\n\\n\\n\\n\\n\\n\\nUtilizamos cookies neste site para: melhorar a funcionalidade, personalizar a experiência de navegação, analisar o tráfego e para efeitos de marketing e publicidade personalizada. Veja nossa\\xa0Política de Privacidade.\\nCookies estritamente necessários: São aqueles cookies que permitem a você navegar pelo site e usar recursos essenciais, como áreas seguras, por exemplo. Esses cookies não guardam quaisquer informações sobre você que possam ser usadas em ações de comunicação de produto ou serviço ou para lembrar as páginas navegadas no site.\\nOs cookies de estatísticas, ou análises, traduzem as interações dos visitantes em relatórios detalhados de comportamento, de maneira anônima.\\nOs cookies ajustam o site a serviços de terceiros, como links em redes sociais, comentários, chatbots, etc.\\nOs cookies ajustam o site a serviços de terceiros, como links em redes sociais, comentários, chatbots, etc.\\nOs cookies ajustam o site a serviços de terceiros, como links em redes sociais, comentários, chatbots, etc.\\nA opinião do cidadão é importante para a constante melhoria dos serviços. Para críticas, sugestões ou esclarecer dúvidas,\\xa0Fale com a Defensoria.\\n\\n\\n\\n\\n\\n\\n                Procura algo mais?\\n            \\n\\nfechar\\n                (X)\\n\\n\\nFALE CONOSCO \\n\\n\\n\\n\\n\\n\\n\\n\\n\\n\\n\\n\\n\\n\\n\\n\\n\\n\\n\\n\\n\\n\\n\\n\\n\\n\\n\\n\\n\\n\\n\\n\\n')])"
      ]
     },
     "execution_count": 11,
     "metadata": {},
     "output_type": "execute_result"
    }
   ],
   "source": [
    "#loader \n",
    "loader = WebBaseLoader(\"https://defensoria.mg.def.br/defensoria-publica-reune-especialistas-para-discutir-o-papel-do-conselho-tutelar-na-protecao-da-crianca-e-do-adolescente-vitima-de-violencia/\")\n",
    "\n",
    "docs = loader.load()\n",
    "len(str(docs)), docs"
   ]
  },
  {
   "cell_type": "code",
   "execution_count": 15,
   "metadata": {},
   "outputs": [
    {
     "data": {
      "text/plain": [
       "(<langchain_text_splitters.character.RecursiveCharacterTextSplitter at 0x7b7908aa7070>,\n",
       " [Document(metadata={'source': 'https://defensoria.mg.def.br/defensoria-publica-reune-especialistas-para-discutir-o-papel-do-conselho-tutelar-na-protecao-da-crianca-e-do-adolescente-vitima-de-violencia/', 'title': '  DPMG reúne especialistas para discutir o papel do Conselho Tutelar na proteção da criança e do adolescente vítima de violência', 'language': 'pt-br'}, page_content='DPMG reúne especialistas para discutir o papel do Conselho Tutelar na proteção da criança e do adolescente vítima de violência\\n\\n\\n\\n\\n\\n\\n\\n\\n\\n\\n\\n\\n\\n\\n\\n\\n\\n\\n\\n\\n\\n\\n\\n\\n\\n\\n\\n\\n\\n\\n\\n\\n\\n\\n\\n\\n\\n\\n\\n\\n\\n\\n\\n\\n\\n\\n\\n\\n\\n\\n\\n\\n\\n\\n\\n\\n\\n\\n\\n\\n\\n\\n\\n\\n\\n\\n\\n\\n\\n\\n \\n\\n\\nVisão\\nMissão\\nValores\\n\\n\\n\\n\\n\\n\\n\\n\\n\\nFale com a Defensoria\\n\\n\\n\\n\\n\\t\\t\\t\\t\\t\\t\\t\\tZoom\\u2002-A\\u2002\\n\\t\\t\\t\\t\\t\\t\\t\\t+A\\u2002|\\u2002\\n\\t\\t\\t\\t\\t\\t\\t\\n\\n\\t\\t\\t\\t\\t\\t\\t\\tContraste\\u2002|\\u2002\\n\\t\\t\\t\\t\\t\\t\\t\\n\\nMapa do Site\\n\\n\\n\\n\\n\\n\\n\\n\\n\\n\\n\\n\\n\\n\\n\\n\\nDPMG\\n\\nPerfil\\nPlanejamento Estratégico\\nEstrutura Organizacional\\n\\nApresentação\\nOrganograma institucional\\nÓrgãos de administração superior\\nÓrgãos de atuação\\nÓrgãos de execução\\nÓrgãos de apoio\\nQuem é quem\\n\\n\\nEscola Superior\\nLegislação\\nHistórico\\n\\n\\nCorpo Gestor\\n\\nDefensoria Pública-Geral\\n\\nApresentação DPG\\n\\nPerfil DPG\\n\\n\\nGabinete e Assessorias\\nBoletins da DPMG\\nRevista DPMG\\n\\n\\nSubdefensoria-Geral\\n\\nApresentação SubDPG\\n\\nPerfil SubDPG\\n\\n\\n\\n\\nConselho Superior\\n\\nAtribuições\\nComposição CS\\n\\n\\nCorregedoria-Geral\\n\\nApresentação CG\\n\\nPerfil Corregedor-Geral da DPMG\\n\\n\\nRegimento interno CG\\nContato CG\\nCNCG – DPE/DF/DPU\\n\\n\\n\\n\\nUnidades\\nServiços'),\n",
       "  Document(metadata={'source': 'https://defensoria.mg.def.br/defensoria-publica-reune-especialistas-para-discutir-o-papel-do-conselho-tutelar-na-protecao-da-crianca-e-do-adolescente-vitima-de-violencia/', 'title': '  DPMG reúne especialistas para discutir o papel do Conselho Tutelar na proteção da criança e do adolescente vítima de violência', 'language': 'pt-br'}, page_content='Conselho Superior\\n\\nAtribuições\\nComposição CS\\n\\n\\nCorregedoria-Geral\\n\\nApresentação CG\\n\\nPerfil Corregedor-Geral da DPMG\\n\\n\\nRegimento interno CG\\nContato CG\\nCNCG – DPE/DF/DPU\\n\\n\\n\\n\\nUnidades\\nServiços\\n\\nCível\\nConsumidor\\nCriminal\\nDefesa da Mulher\\nDireitos Humanos\\nFamília e Sucessões\\nCriança e Adolescente\\nJustiça Militar\\nPessoa com Deficiência\\nPessoa Idosa\\nSaúde\\nSegunda Instância e Tribunais Superiores\\n\\n\\nProjetos\\n\\nA Defensoria vai até você\\nAlém da Culpa\\nAprendendo a Conciliar\\nAudiências de Custódia\\nCasamento Comunitário\\nCasamento Igualitário\\nConciliar: Só Depende de Você\\nDefensoras Populares\\nDefensoria Itinerante\\nDefensoria no Lar\\nDefensoria no PPCAAM\\nDia Mundial dos Pobres\\nDireito a Ser Dono\\nDireito a Ter Pai\\nEscola de Convivência Familiar\\nGestação Legal\\nInclusão Verde Mundo – Rede em Proteção\\nMESC – Paz em Ação\\nMutirão das Famílias\\nOportunidade\\nPrenome e Gênero das travestis e transexuais\\nProteção Integral\\nRealização Exames de DNA\\n\\n\\nEspaço Cidadão'),\n",
       "  Document(metadata={'source': 'https://defensoria.mg.def.br/defensoria-publica-reune-especialistas-para-discutir-o-papel-do-conselho-tutelar-na-protecao-da-crianca-e-do-adolescente-vitima-de-violencia/', 'title': '  DPMG reúne especialistas para discutir o papel do Conselho Tutelar na proteção da criança e do adolescente vítima de violência', 'language': 'pt-br'}, page_content='Espaço Cidadão\\n\\nUnidades da Defensoria de Minas\\nDocumentos para o Atendimento\\nCritérios atendimento\\nPerguntas Frequentes\\nConcursos da DPMG\\nEstágio\\nLei Geral de Proteção de Dados\\nCartilhas sobre direitos\\nCartilha de Consulta a Processos\\nEstudos e pesquisas\\nInformativos temáticos\\nRevista DPMG\\n\\n\\nTransparência\\nImprensa\\n\\nAscom\\nDeu na mídia\\nEspeciais\\nIdentidade visual\\nNotícias\\n\\n\\n\\n\\n\\n\\n\\n\\n\\n\\nFale com a Defensoria\\n\\n\\n\\n\\n\\n\\n\\n\\n\\n\\n\\n\\n\\n\\t\\t\\t\\t\\t\\t\\t\\t\\tPesquisa de Satisfação\\t\\t\\t\\t\\t\\t\\t\\t\\n\\n\\n\\n\\n\\t\\t\\t\\t\\t\\t\\t\\tValidar Documento\\n\\t\\t\\t\\t\\t\\t\\t\\n\\n\\n\\n\\n\\t\\t\\t\\t\\t\\t\\t\\tSistema de Gerenciamento Institucional\\n\\t\\t\\t\\t\\t\\t\\t\\n\\n\\n\\n\\n\\t\\t\\t\\t\\t\\t\\t\\tDiário Oficial\\n\\t\\t\\t\\t\\t\\t\\t\\n\\n\\n\\n\\n\\t\\t\\t\\t\\t\\t\\t\\tLei Geral de Proteção de Dados\\n\\t\\t\\t\\t\\t\\t\\t\\n\\n\\n\\n\\n\\t\\t\\t\\t\\t\\t\\t\\tSistema Eletrônico de Informações\\n\\t\\t\\t\\t\\t\\t\\t\\n\\n\\n\\n\\n\\n\\n\\n\\n\\n\\n\\nDPMG reúne especialistas para discutir o papel do Conselho Tutelar na proteção da criança e do adolescente vítima de violência\\n\\nPor Assessoria de Comunicação em 1 de agosto de 2024'),\n",
       "  Document(metadata={'source': 'https://defensoria.mg.def.br/defensoria-publica-reune-especialistas-para-discutir-o-papel-do-conselho-tutelar-na-protecao-da-crianca-e-do-adolescente-vitima-de-violencia/', 'title': '  DPMG reúne especialistas para discutir o papel do Conselho Tutelar na proteção da criança e do adolescente vítima de violência', 'language': 'pt-br'}, page_content='A Defensoria Pública de Minas Gerais, por meio da sua Escola Superior (Esdep) e iniciativa do Conselho Municipal dos Direitos da Criança e do Adolescente de BH, da Diretoria de Políticas para Crianças e Adolescentes (DPCA), em parceria com o Ministério Público de Minas Gerais e a Polícia Civil de Minas Gerais, promove o seminário “O papel do Conselho Tutelar na proteção da criança e do adolescente vítima de violência: um diálogo sobre a Lei nº 13.431/17”. O evento será realizado no dia 7 de agosto, presencialmente, no auditório da DPMG, localizado na Rua dos Guajajaras, 1.707, 2º andar, bairro Barro Preto, \\xa0em Belo Horizonte.'),\n",
       "  Document(metadata={'source': 'https://defensoria.mg.def.br/defensoria-publica-reune-especialistas-para-discutir-o-papel-do-conselho-tutelar-na-protecao-da-crianca-e-do-adolescente-vitima-de-violencia/', 'title': '  DPMG reúne especialistas para discutir o papel do Conselho Tutelar na proteção da criança e do adolescente vítima de violência', 'language': 'pt-br'}, page_content='O seminário terá início às 8h30 com a abertura oficial. Na sequência, serão abordados “Aspectos teóricos essenciais do sistema de proteção de crianças e adolescentes vítimas e testemunhas de crimes”. Participa como palestrante a delegada chefe da Divisão Especializada em Orientação e Proteção à Criança e Adolescente, Renata Ribeiro Fagundes. A mediação será feita pela coordenadora estadual de Proteção e Defesa dos Direitos da Criança e do Adolescente da DPMG, defensora pública Daniele Bellettato Nesrala.'),\n",
       "  Document(metadata={'source': 'https://defensoria.mg.def.br/defensoria-publica-reune-especialistas-para-discutir-o-papel-do-conselho-tutelar-na-protecao-da-crianca-e-do-adolescente-vitima-de-violencia/', 'title': '  DPMG reúne especialistas para discutir o papel do Conselho Tutelar na proteção da criança e do adolescente vítima de violência', 'language': 'pt-br'}, page_content='Para a exposição sobre os “Aspectos práticos da revelação espontânea”, participa a analista da Polícia Civil de Minas Gerais e psicóloga da Delegacia Especializada de Proteção à Criança e Adolescentes, Gleisse Messias. A coordenadora da Defensoria Especializada dos Direitos das Crianças e dos Adolescentes – Cível (DEDICA-Cível), defensora pública Eden Mattar, e o presidente do Conselho Municipal dos Direitos da Criança e do Adolescente (CMDCA), Rodrigo Zacarias, serão os responsáveis pela mediação.\\nA programação inclui ainda oficinas práticas, além de encaminhamentos e protocolos que serão mediados pela defensora pública Daniele Bellettato e por Rodrigo Zacarias.\\nPúblico-alvo e inscrições\\nO evento é destinado a conselheiros e conselheiras tutelares. Clique aqui para realizar a sua inscrição até o dia 6 de agosto.\\nSobre a Lei nº 13.431/17'),\n",
       "  Document(metadata={'source': 'https://defensoria.mg.def.br/defensoria-publica-reune-especialistas-para-discutir-o-papel-do-conselho-tutelar-na-protecao-da-crianca-e-do-adolescente-vitima-de-violencia/', 'title': '  DPMG reúne especialistas para discutir o papel do Conselho Tutelar na proteção da criança e do adolescente vítima de violência', 'language': 'pt-br'}, page_content='Público-alvo e inscrições\\nO evento é destinado a conselheiros e conselheiras tutelares. Clique aqui para realizar a sua inscrição até o dia 6 de agosto.\\nSobre a Lei nº 13.431/17\\nA Lei nº 13.431/17, também conhecida como Lei da Escuta Protegida, estabelece o Sistema de Garantia de Direitos da Criança e do Adolescente vítima ou testemunha de violência.\\nEsta lei tem como objetivo principal proteger crianças e adolescentes durante todo o processo de denúncia e julgamento de crimes, prevenindo a revitimização. Entre suas principais inovações, a lei define as modalidades de violência (física, psicológica, sexual e institucional), e estabelece procedimentos específicos para a escuta especializada e o depoimento especial.\\nA escuta especializada é realizada por profissionais da rede de proteção em um ambiente acolhedor, enquanto o depoimento especial é conduzido pela justiça, garantindo a privacidade e segurança da criança ou adolescente durante todo o processo.'),\n",
       "  Document(metadata={'source': 'https://defensoria.mg.def.br/defensoria-publica-reune-especialistas-para-discutir-o-papel-do-conselho-tutelar-na-protecao-da-crianca-e-do-adolescente-vitima-de-violencia/', 'title': '  DPMG reúne especialistas para discutir o papel do Conselho Tutelar na proteção da criança e do adolescente vítima de violência', 'language': 'pt-br'}, page_content='Compartilhar com:\\n                \\n\\n\\n\\n\\n\\n\\n\\n\\n\\n\\n\\n\\n\\n\\n\\n\\n\\n\\n\\n\\n\\n\\n\\n\\n\\n\\n\\n\\n\\n\\n\\n\\n\\n\\n\\n\\nTags:\\n\\n\\n\\n\\n\\n\\nPOST ANTERIOR \\n\\nPRÓXIMO POST \\n\\n\\n\\n OUTRAS NOTÍCIAS RELACIONADAS\\n\\n\\n\\n\\n\\n\\nDefensoria Pública reúne especialistas para discutir desafios e soluções contra a violência cibernética de gênero...\\n\\n\\n\\n\\n\\nSeis meses após o desastre de Brumadinho, Defensoria Pública de MG ultrapassa 2.500 atendimentos e viabiliza acordos em favor dos atingidos...\\n\\n\\n\\n\\n\\nCoronavírus: Defensoria Pública de Minas Gerais atua em regime de plantão no período de 19 a 27 de março...\\n\\n\\n\\n\\n\\nDefensoria Pública mineira participa de curso do TCEMG voltado para orientação de prestações de contas das APACs...\\n\\n\\n\\n\\n\\nDefensoria Pública participa de entrega de verbas pecuniárias a projetos sociais...\\n\\n\\n\\n\\n\\n\\n\\n\\n\\n\\n\\n\\n \\n\\n\\n \\n\\n\\n \\n\\n\\n \\n\\n\\n \\n\\n\\n \\n\\n\\n\\n\\n\\n\\n\\n\\nDPMGPerfil\\nPlanejamento Estratégico\\nEstrutura Organizacional'),\n",
       "  Document(metadata={'source': 'https://defensoria.mg.def.br/defensoria-publica-reune-especialistas-para-discutir-o-papel-do-conselho-tutelar-na-protecao-da-crianca-e-do-adolescente-vitima-de-violencia/', 'title': '  DPMG reúne especialistas para discutir o papel do Conselho Tutelar na proteção da criança e do adolescente vítima de violência', 'language': 'pt-br'}, page_content='Defensoria Pública participa de entrega de verbas pecuniárias a projetos sociais...\\n\\n\\n\\n\\n\\n\\n\\n\\n\\n\\n\\n\\n \\n\\n\\n \\n\\n\\n \\n\\n\\n \\n\\n\\n \\n\\n\\n \\n\\n\\n\\n\\n\\n\\n\\n\\nDPMGPerfil\\nPlanejamento Estratégico\\nEstrutura Organizacional\\n\\nApresentação\\nOrganograma institucional\\nÓrgãos de administração superior\\nÓrgãos de apoio\\nÓrgãos de atuação\\nÓrgãos de execução\\nQuem é quem\\n\\n\\nEscola Superior\\nLegislação\\nHistórico\\nCorpo GestorDefensoria Pública-Geral\\n\\nApresentação DPG\\n\\nPerfil DPG\\n\\n\\nGabinete e Assessorias\\nBoletins da DPMG\\nRevista DPMG\\n\\n\\nSubdefensoria-Geral\\n\\nApresentação SubDPG\\n\\nPerfil SubDPG\\n\\n\\n\\n\\nConselho Superior\\n\\nAtribuições\\nComposição CS\\n\\n\\nCorregedoria-Geral\\n\\nApresentação CG\\n\\nPerfil Corregedor-Geral da DPMG\\n\\n\\nRegimento interno CG\\nCNCG – DPE/DF/DPU\\nContato CG\\n\\n\\n \\n\\nUnidadesMunicípios com DPMG\\nServiçosCível\\nConsumidor\\nCriminal\\nDefesa da Mulher\\nDireitos Humanos\\nFamília e Sucessões\\nPessoa Idosa\\nCriança e Adolescente\\nJustiça Militar\\nPessoa com Deficiência\\nSaúde\\nSegunda Instância e Tribunais Superiores'),\n",
       "  Document(metadata={'source': 'https://defensoria.mg.def.br/defensoria-publica-reune-especialistas-para-discutir-o-papel-do-conselho-tutelar-na-protecao-da-crianca-e-do-adolescente-vitima-de-violencia/', 'title': '  DPMG reúne especialistas para discutir o papel do Conselho Tutelar na proteção da criança e do adolescente vítima de violência', 'language': 'pt-br'}, page_content='AçõesA Defensoria vai até você\\nAlém da Culpa\\nAprendendo a Conciliar\\nAudiências de Custódia\\nCasamento Comunitário\\nCasamento Igualitário\\nConciliar: Só Depende de Você\\nDefensoras Populares\\nDefensoria Itinerante\\nDefensoria no Lar\\nDefensoria no PPCAAM\\nDia Mundial dos Pobres\\nDireito a Ser Dono\\nDireito a Ter Pai\\nEscola de Convivência Familiar\\nGestação Legal\\nInclusão Verde Mundo – Rede em Proteção\\nMESC – Paz em Ação\\nMutirão das Famílias\\nOportunidade\\nPrenome e Gênero das travestis e transexuais\\nProteção Integral\\nRealização Exames de DNA\\n \\n\\nEspaço CidadãoCartilhas SEEU\\nCartilhas sobre direitos\\nConcursos da DPMG\\nCritérios de atendimento\\nDocumentos p/ Atendimento\\nEstágios e Processos Seletivos – CESV\\nInformativos temáticos\\nLei Geral de Proteção de Dados\\nPerguntas Frequentes\\nRevista da Defensoria\\nUnidades da Defensoria'),\n",
       "  Document(metadata={'source': 'https://defensoria.mg.def.br/defensoria-publica-reune-especialistas-para-discutir-o-papel-do-conselho-tutelar-na-protecao-da-crianca-e-do-adolescente-vitima-de-violencia/', 'title': '  DPMG reúne especialistas para discutir o papel do Conselho Tutelar na proteção da criança e do adolescente vítima de violência', 'language': 'pt-br'}, page_content='TransparênciaAcesso à informação\\nCronologia de pagamentos\\nDespesa Pública\\nExecução orçamentária\\nGestão de documentos\\nLOA e LDO\\nObras\\nPlanejamento Estratégico\\nPlano Geral de Atuação\\nPrestação de Contas Anual\\nProdutividade\\nProjetos Convênios e Parcerias\\nQuadro de Pessoas\\nReceita Pública\\nRelação de contratos\\nRelação das licitações\\nRelatório de Remuneração\\nRelatório de Gestão\\nRelatório de Gestão Fiscal\\nImprensaAscom\\nDeu na mídia\\nEspeciais\\nIdentidade Visual\\nNotícias\\n \\n\\n\\n\\n\\n\\n\\n\\n\\n\\nRua dos Guajajaras, 1707 - Barro Preto\\nBelo Horizonte, Minas Gerais\\nCEP:\\u200230.180.099\\n(31) 3526-0500\\n\\n\\n\\n\\n\\n\\n\\n\\n\\n\\n\\nBaixe o App da DPMG'),\n",
       "  Document(metadata={'source': 'https://defensoria.mg.def.br/defensoria-publica-reune-especialistas-para-discutir-o-papel-do-conselho-tutelar-na-protecao-da-crianca-e-do-adolescente-vitima-de-violencia/', 'title': '  DPMG reúne especialistas para discutir o papel do Conselho Tutelar na proteção da criança e do adolescente vítima de violência', 'language': 'pt-br'}, page_content='Utilizamos cookies neste site para: melhorar a funcionalidade, personalizar a experiência de navegação, analisar o tráfego e para efeitos de marketing e publicidade personalizada. Veja nossa\\xa0Política de Privacidade.\\nCookies estritamente necessários: São aqueles cookies que permitem a você navegar pelo site e usar recursos essenciais, como áreas seguras, por exemplo. Esses cookies não guardam quaisquer informações sobre você que possam ser usadas em ações de comunicação de produto ou serviço ou para lembrar as páginas navegadas no site.\\nOs cookies de estatísticas, ou análises, traduzem as interações dos visitantes em relatórios detalhados de comportamento, de maneira anônima.\\nOs cookies ajustam o site a serviços de terceiros, como links em redes sociais, comentários, chatbots, etc.\\nOs cookies ajustam o site a serviços de terceiros, como links em redes sociais, comentários, chatbots, etc.'),\n",
       "  Document(metadata={'source': 'https://defensoria.mg.def.br/defensoria-publica-reune-especialistas-para-discutir-o-papel-do-conselho-tutelar-na-protecao-da-crianca-e-do-adolescente-vitima-de-violencia/', 'title': '  DPMG reúne especialistas para discutir o papel do Conselho Tutelar na proteção da criança e do adolescente vítima de violência', 'language': 'pt-br'}, page_content='Os cookies ajustam o site a serviços de terceiros, como links em redes sociais, comentários, chatbots, etc.\\nOs cookies ajustam o site a serviços de terceiros, como links em redes sociais, comentários, chatbots, etc.\\nA opinião do cidadão é importante para a constante melhoria dos serviços. Para críticas, sugestões ou esclarecer dúvidas,\\xa0Fale com a Defensoria.'),\n",
       "  Document(metadata={'source': 'https://defensoria.mg.def.br/defensoria-publica-reune-especialistas-para-discutir-o-papel-do-conselho-tutelar-na-protecao-da-crianca-e-do-adolescente-vitima-de-violencia/', 'title': '  DPMG reúne especialistas para discutir o papel do Conselho Tutelar na proteção da criança e do adolescente vítima de violência', 'language': 'pt-br'}, page_content='Procura algo mais?\\n            \\n\\nfechar\\n                (X)\\n\\n\\nFALE CONOSCO')],\n",
       " 14)"
      ]
     },
     "execution_count": 15,
     "metadata": {},
     "output_type": "execute_result"
    }
   ],
   "source": [
    "#text_splitter \n",
    "text_splitter = RecursiveCharacterTextSplitter(chunk_size=1000, chunk_overlap=200)\n",
    "splits = text_splitter.split_documents(docs)\n",
    "\n",
    "\n",
    "text_splitter, splits, len(splits)"
   ]
  },
  {
   "cell_type": "code",
   "execution_count": 22,
   "metadata": {},
   "outputs": [
    {
     "data": {
      "text/plain": [
       "(<langchain_chroma.vectorstores.Chroma at 0x7b78d32460b0>,\n",
       " VectorStoreRetriever(tags=['Chroma', 'OpenAIEmbeddings'], vectorstore=<langchain_chroma.vectorstores.Chroma object at 0x7b78d32460b0>))"
      ]
     },
     "execution_count": 22,
     "metadata": {},
     "output_type": "execute_result"
    }
   ],
   "source": [
    "#vectorstore\n",
    "vectorstore = Chroma.from_documents(documents=splits, embedding=OpenAIEmbeddings())\n",
    "retriever = vectorstore.as_retriever()\n",
    "\n"
   ]
  },
  {
   "cell_type": "code",
   "execution_count": 44,
   "metadata": {},
   "outputs": [],
   "source": [
    "#prompt\n",
    "system_prompt = (\n",
    "\t\"Você é um assistente para tarefas de resposta a perguntas.\"\n",
    " \t\"Use os seguintes trechos de contexto recuperado para responder\"\n",
    "  \t\"à pergunta. Se você não sabe a resposta, diga que não sabe.\" \n",
    "   \t\"Use no máximo três frases e mantenha a resposta concisa.\"\n",
    "    \"\\n\\n\"\n",
    "    \"{context}\"\n",
    ")\n",
    "\n",
    "prompt = ChatPromptTemplate.from_messages(\n",
    "    [\n",
    "        (\"system\", system_prompt),\n",
    "        (\"human\", \"{input}\"),\n",
    "    ]\n",
    ")\n",
    "\n",
    "question_answer_chain = create_stuff_documents_chain(llm, prompt)\n",
    "rag_chain = create_retrieval_chain(retriever, question_answer_chain)\n"
   ]
  },
  {
   "cell_type": "code",
   "execution_count": 43,
   "metadata": {},
   "outputs": [
    {
     "data": {
      "text/plain": [
       "'O evento abordará os \"Aspectos práticos da revelação espontânea\" e está relacionado à Lei nº 13.431/17, também conhecida como Lei da Escuta Protegida, que estabelece o Sistema de Garantia de Direitos da Criança e do Adolescente vítima ou testemunha de violência.'"
      ]
     },
     "execution_count": 43,
     "metadata": {},
     "output_type": "execute_result"
    }
   ],
   "source": [
    "rag_chain.invoke({\"input\": \"Sobre o que é o evento?\"})[\"answer\"]"
   ]
  },
  {
   "cell_type": "code",
   "execution_count": 45,
   "metadata": {},
   "outputs": [],
   "source": [
    "from langchain_community.chat_message_histories import SQLChatMessageHistory\n",
    "\n",
    "\n",
    "def get_session_history(session_id):\n",
    "    return SQLChatMessageHistory(session_id, \"sqlite:///memory.db\")"
   ]
  },
  {
   "cell_type": "code",
   "execution_count": 46,
   "metadata": {},
   "outputs": [],
   "source": [
    "from langchain_core.messages import HumanMessage\n",
    "from langchain_core.runnables.history import RunnableWithMessageHistory"
   ]
  },
  {
   "cell_type": "code",
   "execution_count": 47,
   "metadata": {},
   "outputs": [],
   "source": [
    "runnable_with_history = RunnableWithMessageHistory(\n",
    "    llm,\n",
    "    get_session_history,\n",
    ")"
   ]
  },
  {
   "cell_type": "code",
   "execution_count": 49,
   "metadata": {},
   "outputs": [
    {
     "data": {
      "text/plain": [
       "AIMessage(content='Que legal! Os chatbots estão se tornando cada vez mais populares e são uma ferramenta muito útil para empresas e usuários. Se tiver alguma dúvida ou quiser saber mais sobre o assunto, estou aqui para ajudar.', response_metadata={'token_usage': {'completion_tokens': 55, 'prompt_tokens': 40, 'total_tokens': 95}, 'model_name': 'gpt-3.5-turbo-0125', 'system_fingerprint': None, 'finish_reason': 'stop', 'logprobs': None}, id='run-de790351-b156-47f2-bb92-c5d63218bb05-0', usage_metadata={'input_tokens': 40, 'output_tokens': 55, 'total_tokens': 95})"
      ]
     },
     "execution_count": 49,
     "metadata": {},
     "output_type": "execute_result"
    }
   ],
   "source": [
    "runnable_with_history.invoke(\n",
    "    [HumanMessage(content=\"Estou estudando sobre chat\")],\n",
    "    config={\"configurable\": {\"session_id\": \"1\"}},\n",
    ")"
   ]
  },
  {
   "cell_type": "code",
   "execution_count": 50,
   "metadata": {},
   "outputs": [],
   "source": [
    "from langchain_core.prompts import ChatPromptTemplate, MessagesPlaceholder\n",
    "\n",
    "prompt = ChatPromptTemplate.from_messages(\n",
    "    [\n",
    "        (\n",
    "            \"system\",\n",
    "            \"You're an assistant who speaks in {language}. Respond in 20 words or fewer\",\n",
    "        ),\n",
    "        MessagesPlaceholder(variable_name=\"history\"),\n",
    "        (\"human\", \"{input}\"),\n",
    "    ]\n",
    ")\n",
    "\n",
    "runnable = prompt | llm\n",
    "\n",
    "runnable_with_history = RunnableWithMessageHistory(\n",
    "    runnable,\n",
    "    get_session_history,\n",
    "    input_messages_key=\"input\",\n",
    "    history_messages_key=\"history\",\n",
    ")"
   ]
  },
  {
   "cell_type": "code",
   "execution_count": 51,
   "metadata": {},
   "outputs": [
    {
     "data": {
      "text/plain": [
       "AIMessage(content='Olá Lucas! Como posso ajudar você hoje?', response_metadata={'token_usage': {'completion_tokens': 12, 'prompt_tokens': 36, 'total_tokens': 48}, 'model_name': 'gpt-3.5-turbo-0125', 'system_fingerprint': None, 'finish_reason': 'stop', 'logprobs': None}, id='run-7dced309-fbe3-469e-bd50-9251d1b6ec25-0', usage_metadata={'input_tokens': 36, 'output_tokens': 12, 'total_tokens': 48})"
      ]
     },
     "execution_count": 51,
     "metadata": {},
     "output_type": "execute_result"
    }
   ],
   "source": [
    "runnable_with_history.invoke(\n",
    "    {\"language\": \"portugues\", \"input\": \"Ola eu sou o lucas\"},\n",
    "    config={\"configurable\": {\"session_id\": \"2\"}},\n",
    ")"
   ]
  },
  {
   "cell_type": "code",
   "execution_count": 52,
   "metadata": {},
   "outputs": [
    {
     "data": {
      "text/plain": [
       "AIMessage(content='Seu nome é Lucas, como você mesmo disse anteriormente. Posso ajudar com mais alguma coisa?', response_metadata={'token_usage': {'completion_tokens': 23, 'prompt_tokens': 61, 'total_tokens': 84}, 'model_name': 'gpt-3.5-turbo-0125', 'system_fingerprint': None, 'finish_reason': 'stop', 'logprobs': None}, id='run-0c8acabf-64f5-42ad-a2b3-f9f0fb39b500-0', usage_metadata={'input_tokens': 61, 'output_tokens': 23, 'total_tokens': 84})"
      ]
     },
     "execution_count": 52,
     "metadata": {},
     "output_type": "execute_result"
    }
   ],
   "source": [
    "runnable_with_history.invoke(\n",
    "    {\"language\": \"portugues\", \"input\": \"Qual o meu nome?\"},\n",
    "    config={\"configurable\": {\"session_id\": \"2\"}},\n",
    ")"
   ]
  },
  {
   "cell_type": "code",
   "execution_count": null,
   "metadata": {},
   "outputs": [],
   "source": []
  }
 ],
 "metadata": {
  "kernelspec": {
   "display_name": ".venv",
   "language": "python",
   "name": "python3"
  },
  "language_info": {
   "codemirror_mode": {
    "name": "ipython",
    "version": 3
   },
   "file_extension": ".py",
   "mimetype": "text/x-python",
   "name": "python",
   "nbconvert_exporter": "python",
   "pygments_lexer": "ipython3",
   "version": "3.10.12"
  }
 },
 "nbformat": 4,
 "nbformat_minor": 2
}
