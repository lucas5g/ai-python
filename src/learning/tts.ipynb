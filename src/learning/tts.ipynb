{
 "cells": [
  {
   "cell_type": "code",
   "execution_count": 2,
   "metadata": {},
   "outputs": [],
   "source": [
    "import openai\n",
    "\n",
    "client = openai.Client()"
   ]
  },
  {
   "cell_type": "code",
   "execution_count": 4,
   "metadata": {},
   "outputs": [],
   "source": [
    "file = \"files/fala.mp3\"\n",
    "\n",
    "text = \"Inteligência artificial generativa ou IA generativa é um tipo de sistema de IA capaz de gerar texto, imagens ou outras meios de resposta a solicitações em linguagem comum.\\\n",
    "    1][2] Os sistemas generativos de IA usam modelos generativos, como grandes modelos de linguagem, para amostrar estatisticamente novos dados com base no conjunto de dados de treinamento usado para criá-los.[3]\\\n",
    "    Sistemas de IA generativa incluem Stable Diffusion e DALL-E, sistemas de arte de inteligência artificial,[4] assim como sistemas de texto como o ChatGPT,\\\n",
    "    um chatbot construído pela OpenAI usando o modelo de linguagem grande GPT-3 e GPT-4[5] , Bard, um chatbot construído pelo Google usando o modelo LaMDA.[6]\\\n",
    "    e o Microsoft Copilot , chabot construído pela Microsoft que é uma extensão do modelo de linguagem GPT-4 da OpenAI e que foi pensada para uso vinculado aos serviços da Microsoft \\\n",
    "    e sistema operacional Windows. São alguns dos exemplos de IA generativa existentes nos dias atuais\"\n",
    "\n",
    "res = client.audio.speech.create(\n",
    "\tmodel='tts-1',\n",
    "\tvoice='onyx',\n",
    "\tinput=text\n",
    ")\n",
    "\n",
    "res.write_to_file(file)"
   ]
  },
  {
   "cell_type": "code",
   "execution_count": 5,
   "metadata": {},
   "outputs": [],
   "source": [
    "with client.audio.speech.with_streaming_response.create(\n",
    "\tmodel=\"tts-1\",\n",
    "\tvoice=\"onyx\",\n",
    "\tinput=text,\n",
    ") as res:\n",
    "    res.stream_to_file(file)"
   ]
  }
 ],
 "metadata": {
  "kernelspec": {
   "display_name": ".venv",
   "language": "python",
   "name": "python3"
  },
  "language_info": {
   "codemirror_mode": {
    "name": "ipython",
    "version": 3
   },
   "file_extension": ".py",
   "mimetype": "text/x-python",
   "name": "python",
   "nbconvert_exporter": "python",
   "pygments_lexer": "ipython3",
   "version": "3.10.12"
  }
 },
 "nbformat": 4,
 "nbformat_minor": 2
}
