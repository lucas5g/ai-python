{
 "cells": [
  {
   "cell_type": "code",
   "execution_count": 28,
   "metadata": {},
   "outputs": [],
   "source": [
    "import openai \n",
    "\n",
    "client = openai.Client()"
   ]
  },
  {
   "cell_type": "code",
   "execution_count": 29,
   "metadata": {},
   "outputs": [],
   "source": [
    "assistant = client.beta.assistants.create(\n",
    "    name=\"Tutor de Matemática da Asimov\",\n",
    "    instructions=\"Você é um tutor pessoal de matemática da empresa asimov. Escreva e execute códigos \\\n",
    "     \tpara responder as perguntas de matemáticaque lhe forem passadas.\",\n",
    "    tools=[{\"type\": \"code_interpreter\"}],\n",
    "    model=\"gpt-3.5-turbo\",\n",
    ")"
   ]
  },
  {
   "cell_type": "code",
   "execution_count": 30,
   "metadata": {},
   "outputs": [],
   "source": [
    "thread = client.beta.threads.create()"
   ]
  },
  {
   "cell_type": "code",
   "execution_count": 31,
   "metadata": {},
   "outputs": [],
   "source": [
    "message = client.beta.threads.messages.create(\n",
    "\tthread_id=thread.id,\n",
    " \trole=\"user\",\n",
    "\tcontent=\"Se eu jogar um dado honesto 1000 vezes, qual é a probilidade de eu obter exatemente 150 vezes o número 6? \\\n",
    "     \tResolva com um código\"\n",
    ")"
   ]
  },
  {
   "cell_type": "code",
   "execution_count": 32,
   "metadata": {},
   "outputs": [],
   "source": [
    "run = client.beta.threads.runs.create(\n",
    "\tthread_id=thread.id,\n",
    "\tassistant_id=assistant.id,\n",
    "\tinstructions=\"O nome do usuário é Adriano Soares e ele é um usuário Premiu.\"\n",
    ")"
   ]
  },
  {
   "cell_type": "code",
   "execution_count": 33,
   "metadata": {},
   "outputs": [],
   "source": [
    "import time \n",
    "\n",
    "while run.status in [\"queued\", \"in_progress\", \"cancelling\"]:\n",
    "    time.sleep(1)\n",
    "    run = client.beta.threads.runs.retrieve(\n",
    "\t\tthread_id=thread.id,\n",
    "\t\trun_id=run.id\n",
    "\t)"
   ]
  },
  {
   "cell_type": "code",
   "execution_count": 34,
   "metadata": {},
   "outputs": [
    {
     "data": {
      "text/plain": [
       "'completed'"
      ]
     },
     "execution_count": 34,
     "metadata": {},
     "output_type": "execute_result"
    }
   ],
   "source": [
    "run.status"
   ]
  },
  {
   "cell_type": "code",
   "execution_count": 35,
   "metadata": {},
   "outputs": [
    {
     "name": "stdout",
     "output_type": "stream",
     "text": [
      "SyncCursorPage[Message](data=[Message(id='msg_3nOehgdr6Ud0f6dHRzIDCJUd', assistant_id='asst_lMG6CYAx5Ov4yOS9giKjozCd', attachments=[], completed_at=None, content=[TextContentBlock(text=Text(annotations=[], value='A probabilidade de obter exatamente 150 vezes o número 6 ao jogar um dado honesto 1000 vezes é de aproximadamente 1.26%.'), type='text')], created_at=1721412817, incomplete_at=None, incomplete_details=None, metadata={}, object='thread.message', role='assistant', run_id='run_QihfbFFCBrAY70NN0CTuOZhu', status=None, thread_id='thread_C4hUXhRs88lEBt5vTNn7nc0z'), Message(id='msg_6f0EsRqiqNkayGxN8OqMNIkh', assistant_id='asst_lMG6CYAx5Ov4yOS9giKjozCd', attachments=[], completed_at=None, content=[TextContentBlock(text=Text(annotations=[], value='Para calcular a probabilidade de obter exatamente 150 vezes o número 6 ao jogar um dado honesto 1000 vezes, podemos usar a distribuição binomial. A fórmula da distribuição binomial para a probabilidade de k sucessos em n tentativas é dada por:\\n\\n\\\\[ P(X = k) = \\\\binom{n}{k} \\\\times p^k \\\\times (1-p)^{n-k} \\\\]\\n\\nOnde:\\n- \\\\( n \\\\) é o número total de tentativas\\n- \\\\( k \\\\) é o número de sucessos desejados\\n- \\\\( p \\\\) é a probabilidade de sucesso em uma única tentativa\\n\\nNo nosso caso, \\\\( n = 1000 \\\\), \\\\( k = 150 \\\\) e \\\\( p = \\\\frac{1}{6} \\\\) (probabilidade de obter o número 6 em um dado de 6 lados).\\n\\nVou agora calcular a probabilidade de obter exatamente 150 vezes o número 6 ao jogar um dado honesto 1000 vezes.'), type='text')], created_at=1721412813, incomplete_at=None, incomplete_details=None, metadata={}, object='thread.message', role='assistant', run_id='run_QihfbFFCBrAY70NN0CTuOZhu', status=None, thread_id='thread_C4hUXhRs88lEBt5vTNn7nc0z'), Message(id='msg_x6caT2oByVsHz4WrnR8zmHFQ', assistant_id=None, attachments=[], completed_at=None, content=[TextContentBlock(text=Text(annotations=[], value='Se eu jogar um dado honesto 1000 vezes, qual é a probilidade de eu obter exatemente 150 vezes o número 6?      \\tResolva com um código'), type='text')], created_at=1721412812, incomplete_at=None, incomplete_details=None, metadata={}, object='thread.message', role='user', run_id=None, status=None, thread_id='thread_C4hUXhRs88lEBt5vTNn7nc0z')], object='list', first_id='msg_3nOehgdr6Ud0f6dHRzIDCJUd', last_id='msg_x6caT2oByVsHz4WrnR8zmHFQ', has_more=False)\n"
     ]
    }
   ],
   "source": [
    "if run.status == 'completed':\n",
    "    mensagens = client.beta.threads.messages.list(\n",
    "\t\tthread_id=thread.id\n",
    "\t)\n",
    "    print(mensagens)\n",
    "\n",
    "else:\n",
    "    print('Error')"
   ]
  },
  {
   "cell_type": "code",
   "execution_count": 36,
   "metadata": {},
   "outputs": [
    {
     "name": "stdout",
     "output_type": "stream",
     "text": [
      "A probabilidade de obter exatamente 150 vezes o número 6 ao jogar um dado honesto 1000 vezes é de aproximadamente 1.26%.\n"
     ]
    }
   ],
   "source": [
    "print(mensagens.data[0].content[0].text.value)"
   ]
  },
  {
   "cell_type": "code",
   "execution_count": 37,
   "metadata": {},
   "outputs": [],
   "source": [
    "run_steps = client.beta.threads.runs.steps.list(\n",
    "\tthread_id=thread.id,\n",
    "\trun_id=run.id \n",
    ")"
   ]
  },
  {
   "cell_type": "code",
   "execution_count": 38,
   "metadata": {},
   "outputs": [
    {
     "data": {
      "text/plain": [
       "RunStep(id='step_L7pRqS3p7vDIlFeRYJfhRlRR', assistant_id='asst_lMG6CYAx5Ov4yOS9giKjozCd', cancelled_at=None, completed_at=1721412818, created_at=1721412817, expired_at=None, failed_at=None, last_error=None, metadata=None, object='thread.run.step', run_id='run_QihfbFFCBrAY70NN0CTuOZhu', status='completed', step_details=MessageCreationStepDetails(message_creation=MessageCreation(message_id='msg_3nOehgdr6Ud0f6dHRzIDCJUd'), type='message_creation'), thread_id='thread_C4hUXhRs88lEBt5vTNn7nc0z', type='message_creation', usage=Usage(completion_tokens=38, prompt_tokens=477, total_tokens=515), expires_at=None)"
      ]
     },
     "execution_count": 38,
     "metadata": {},
     "output_type": "execute_result"
    }
   ],
   "source": [
    "run_steps\n",
    "run_steps.data[0]"
   ]
  },
  {
   "cell_type": "code",
   "execution_count": 42,
   "metadata": {},
   "outputs": [
    {
     "name": "stdout",
     "output_type": "stream",
     "text": [
      "=== step:  message_creation\n",
      "=== step:  tool_calls\n",
      "----\n",
      "from math import comb\n",
      "\n",
      "# Definindo os parâmetros\n",
      "n = 1000\n",
      "k = 150\n",
      "p = 1/6\n",
      "\n",
      "# Calculando a probabilidade\n",
      "probabilidade = comb(n, k) * (p ** k) * ((1-p) ** (n-k))\n",
      "probabilidade\n",
      "----\n",
      "Result\n",
      "[]\n",
      "=== step:  message_creation\n"
     ]
    }
   ],
   "source": [
    "for step in run_steps.data:\n",
    "    print('=== step: ', step.step_details.type)\n",
    "    \n",
    "    if step.step_details.type == 'tool_calls':\n",
    "        for tool_call in step.step_details.tool_calls:\n",
    "            print('----')\n",
    "            print(tool_call.code_interpreter.input)\n",
    "            print('----')\n",
    "            print('Result')\n",
    "            print(tool_call.code_interpreter.outputs)\n",
    "    "
   ]
  }
 ],
 "metadata": {
  "kernelspec": {
   "display_name": ".venv",
   "language": "python",
   "name": "python3"
  },
  "language_info": {
   "codemirror_mode": {
    "name": "ipython",
    "version": 3
   },
   "file_extension": ".py",
   "mimetype": "text/x-python",
   "name": "python",
   "nbconvert_exporter": "python",
   "pygments_lexer": "ipython3",
   "version": "3.10.12"
  }
 },
 "nbformat": 4,
 "nbformat_minor": 2
}
