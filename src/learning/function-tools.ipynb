{
 "cells": [
  {
   "cell_type": "code",
   "execution_count": 2,
   "metadata": {},
   "outputs": [],
   "source": [
    "import json\n",
    "import openai\n",
    "\n",
    "client = openai.Client()"
   ]
  },
  {
   "cell_type": "code",
   "execution_count": 3,
   "metadata": {},
   "outputs": [
    {
     "data": {
      "text/plain": [
       "'{\"local\": \"São Paulo\", \"temperatura\": 32, \"unidade\": \"celsius\"}'"
      ]
     },
     "execution_count": 3,
     "metadata": {},
     "output_type": "execute_result"
    }
   ],
   "source": [
    "def obter_temperatura_atual(local, unidade=\"celsius\"):\n",
    "    cidades = [\n",
    "        {\"local\": \"São Paulo\", \"temperatura\": 32, \"unidade\": unidade},\n",
    "        {\"local\": \"Porto Alegra\", \"temperatura\": 25, \"unidade\": unidade},\n",
    "        {\"local\": \"Rio de Janeiro\", \"temperatura\": 38, \"unidade\": unidade},\n",
    "    ]\n",
    "    \n",
    "    cidade = [cidade for cidade in cidades if cidade.get('local') == local][0]\n",
    "    \n",
    "    return json.dumps(cidade, ensure_ascii=False)\n",
    "    \n",
    "obter_temperatura_atual(\"São Paulo\")"
   ]
  },
  {
   "cell_type": "code",
   "execution_count": 4,
   "metadata": {},
   "outputs": [],
   "source": [
    "tools = [\n",
    "    {\n",
    "        \"type\": \"function\",\n",
    "        \"function\": {\n",
    "            \"name\": \"obter_temperatura_atual\",\n",
    "            \"description\": \"Obtém a temperatura atual em uma dada cidade\",\n",
    "            \"parameters\": {\n",
    "                \"type\": \"object\",\n",
    "                \"properties\": {\n",
    "                    \"local\": {\n",
    "                        \"type\": \"string\",\n",
    "                        \"description\": \"O nome da cidade. Ex: São Paulo\",\n",
    "                    },\n",
    "                    \"unidade\": {\"type\": \"string\", \"enum\": [\"celsius\", \"fahrenheit\"]},\n",
    "                },\n",
    "                \"required\": [\"local\"],\n",
    "            },\n",
    "        },\n",
    "    }\n",
    "]"
   ]
  },
  {
   "cell_type": "code",
   "execution_count": 5,
   "metadata": {},
   "outputs": [],
   "source": [
    "funcoes_disponiveis = {\n",
    "\t\"obter_temperatura_atual\": obter_temperatura_atual\n",
    "}"
   ]
  },
  {
   "cell_type": "code",
   "execution_count": 10,
   "metadata": {},
   "outputs": [],
   "source": [
    "mensagens = [{'role':'user', 'content':'Qual é a temperatura em São Paulo'}]\n",
    "res = client.chat.completions.create(\n",
    "\tmodel='gpt-3.5-turbo-0125',\n",
    "\tmessages=mensagens,\n",
    "\ttools=tools,\n",
    "\ttool_choice='auto'\n",
    "\t\n",
    ")\n",
    "\n",
    "# res.choices[0].message.content\n",
    "mensagem_res = res.choices[0].message\n",
    "tool_calls = res.choices[0].message.tool_calls"
   ]
  },
  {
   "cell_type": "code",
   "execution_count": 11,
   "metadata": {},
   "outputs": [],
   "source": [
    "if tool_calls:\n",
    "    mensagens.append(mensagem_res)\n",
    "    for tool_call in tool_calls:\n",
    "        function_name = tool_call.function.name\n",
    "        function_to_call = funcoes_disponiveis[function_name]\n",
    "        function_args = json.loads(tool_call.function.arguments)\n",
    "        function_response = function_to_call(\n",
    "            local=function_args.get(\"local\"), unidade=function_args.get(\"unidade\")\n",
    "        )\n",
    "\n",
    "        mensagens.append(\n",
    "            {\n",
    "                \"tool_call_id\": tool_call.id,\n",
    "                \"role\": \"tool\",\n",
    "                \"name\": function_name,\n",
    "                \"content\": function_response\n",
    "            }\n",
    "        )\n"
   ]
  },
  {
   "cell_type": "code",
   "execution_count": 13,
   "metadata": {},
   "outputs": [
    {
     "data": {
      "text/plain": [
       "'A temperatura em São Paulo é de 32 graus.'"
      ]
     },
     "execution_count": 13,
     "metadata": {},
     "output_type": "execute_result"
    }
   ],
   "source": [
    "segunda_resposta = client.chat.completions.create(\n",
    "\tmodel='gpt-3.5-turbo-0125',\n",
    "\tmessages=mensagens\n",
    ")\n",
    "\n",
    "segunda_resposta.choices[0].message.content"
   ]
  }
 ],
 "metadata": {
  "kernelspec": {
   "display_name": ".venv",
   "language": "python",
   "name": "python3"
  },
  "language_info": {
   "codemirror_mode": {
    "name": "ipython",
    "version": 3
   },
   "file_extension": ".py",
   "mimetype": "text/x-python",
   "name": "python",
   "nbconvert_exporter": "python",
   "pygments_lexer": "ipython3",
   "version": "3.10.12"
  }
 },
 "nbformat": 4,
 "nbformat_minor": 2
}
