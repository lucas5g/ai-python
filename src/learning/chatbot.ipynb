{
 "cells": [
  {
   "cell_type": "code",
   "execution_count": 2,
   "metadata": {},
   "outputs": [],
   "source": [
    "import openai\n",
    "\n",
    "client = openai.Client()"
   ]
  },
  {
   "cell_type": "code",
   "execution_count": 18,
   "metadata": {},
   "outputs": [],
   "source": [
    "def geracao_texto(mensagens):\n",
    "\tresposta = client.chat.completions.create(\n",
    "\t\tmessages=mensagens, model=\"gpt-3.5-turbo-0125\", temperature=0,\n",
    "\t\tmax_tokens=1000,\n",
    "\t\tstream=True\n",
    "\t)\n",
    "\n",
    "\tprint('Assistant: ', end='')\n",
    "\ttexto_completo = ''\n",
    "\tfor stream in resposta:\n",
    "\t\ttexto = stream.choices[0].delta.content\n",
    "\t\tif texto:\n",
    "\t\t\tprint(texto, end='')\n",
    "\t\t\ttexto_completo += texto\n",
    "\tprint()\n",
    "\tmensagens.append({\"role\": \"assistant\", 'content': texto_completo})\n",
    "\n",
    "\treturn mensagens         \n",
    "        "
   ]
  },
  {
   "cell_type": "code",
   "execution_count": 19,
   "metadata": {},
   "outputs": [
    {
     "name": "stdout",
     "output_type": "stream",
     "text": [
      "Assistant: Olá! Como posso ajudar você hoje?\n",
      "Assistant: Olá, Lucas! É um prazer conhecê-lo. Como posso ajudá-lo hoje?\n",
      "Assistant: Seu nome é Lucas, como você mesmo mencionou anteriormente. Como posso ajudá-lo, Lucas?\n",
      "Assistant: Se precisar de alguma coisa, estou aqui para ajudar. Tenha um ótimo dia, Lucas!\n"
     ]
    }
   ],
   "source": [
    "if __name__ == '__main__':\n",
    "\tmensagens = []\n",
    " \n",
    "\twhile True:\n",
    "\t\tinput_usuario = input('User: ')\n",
    "\t\tif input_usuario == 'q':\n",
    "\t\t\tbreak\n",
    "\t\tmensagens.append({'role': 'user', 'content': input_usuario})\n",
    "\t\tmensagens = geracao_texto(mensagens)\n",
    "\t"
   ]
  }
 ],
 "metadata": {
  "kernelspec": {
   "display_name": ".venv",
   "language": "python",
   "name": "python3"
  },
  "language_info": {
   "codemirror_mode": {
    "name": "ipython",
    "version": 3
   },
   "file_extension": ".py",
   "mimetype": "text/x-python",
   "name": "python",
   "nbconvert_exporter": "python",
   "pygments_lexer": "ipython3",
   "version": "3.10.12"
  }
 },
 "nbformat": 4,
 "nbformat_minor": 2
}
