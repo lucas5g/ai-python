{
 "cells": [
  {
   "cell_type": "code",
   "execution_count": 18,
   "metadata": {},
   "outputs": [],
   "source": [
    "from langchain_community.document_loaders import PyPDFLoader\n",
    "from langchain_text_splitters import RecursiveCharacterTextSplitter\n",
    "from langchain_groq import ChatGroq\n",
    "from langchain_openai import OpenAIEmbeddings\n",
    "from langchain_community.vectorstores import FAISS\n",
    "from langchain_chroma import Chroma\n",
    "from langchain_openai import ChatOpenAI\n",
    "from langchain import hub\n",
    "from langchain_core.output_parsers import StrOutputParser\n",
    "from langchain_core.runnables import RunnablePassthrough\n",
    "\n",
    "\n"
   ]
  },
  {
   "cell_type": "code",
   "execution_count": 13,
   "metadata": {},
   "outputs": [],
   "source": [
    "llm = ChatOpenAI(model=\"gpt-3.5-turbo\")\n",
    "\n"
   ]
  },
  {
   "cell_type": "code",
   "execution_count": 36,
   "metadata": {},
   "outputs": [],
   "source": [
    "loader = PyPDFLoader('files/DPMG.pdf')\n",
    "\n",
    "docs = loader.load()\n",
    "\n",
    "text_splitter = RecursiveCharacterTextSplitter(chunk_size=1000, chunk_overlap=200)\n",
    "splits = text_splitter.split_documents(docs)\n",
    "vectorstore = Chroma.from_documents(documents=splits, embedding=OpenAIEmbeddings())\n",
    "\n",
    "# Retrieve and generate using the relevant snippets of the blog.\n",
    "retriever = vectorstore.as_retriever()\n",
    "prompt = hub.pull(\"rlm/rag-prompt\")\n",
    "\n",
    "\n",
    "def format_docs(docs):\n",
    "\n",
    "    return \"\\n\\n\".join(doc.page_content for doc in docs)\n",
    "\n",
    "\n",
    "rag_chain = (\n",
    "    {\"context\": retriever | format_docs, \"question\": RunnablePassthrough()}\n",
    "    | prompt\n",
    "    | llm\n",
    "    | StrOutputParser()\n",
    ")\n",
    "\n",
    "\n"
   ]
  },
  {
   "cell_type": "code",
   "execution_count": 52,
   "metadata": {},
   "outputs": [
    {
     "name": "stdout",
     "output_type": "stream",
     "text": [
      "page_content='Flávio Júlio Alves Silva.\n",
      "11 de abril de 2024 NoturnoLuiz Henrique Costa Gonçalves;\n",
      "Cristiano Moreira Moteram;\n",
      "Taylan Silva Bustamante;\n",
      "Rafael Martins Galdino;\n",
      "Hugo Teodoro Calandrini De Azevedo Melo;\n",
      "Eduardo Thierry Batista Leite; e\n",
      "Antônio Lopes Júnior.\n",
      "13 de abril de 2024 DiurnoEduardo Thierry Batista Leite;\n",
      "Victor Henrique Batista de Macedo;\n",
      "Antônio Lopes Júnior; e\n",
      "Flávio Júlio Alves Silva.\n",
      "14 de abril de 2024 DiurnoEduardo Thierry Batista Leite;\n",
      "Victor Henrique Batista de Macedo; e\n",
      "Antônio Lopes Júnior.\n",
      "16 de abril de 2024 NoturnoLuiz Henrique Costa Gonçalves;\n",
      "Cristiano Moreira Moteram;\n",
      "Rafael Martins Galdino;\n",
      "Paulo Henrique dos Santos;\n",
      "Hugo Teodoro Calandrini De Azevedo Melo;\n",
      "Victor Henrique Batista de Macedo; e\n",
      "Antônio Lopes Júnior.\n",
      "18 de abril de 2024 NoturnoLuiz Henrique Costa Gonçalves;\n",
      "Lucas De Sousa Assunção;\n",
      "Matheus Marinho Feitoza;\n",
      "Paulo Henrique dos Santos;\n",
      "Luísa Ribeiro Cassini;\n",
      "Isabella Torres Godoi;\n",
      "Hugo Teodoro Calandrini De Azevedo Melo;' metadata={'source': 'files/DPMG.pdf', 'page': 4}\n",
      "page_content='Lucas De Sousa Assunção;\n",
      "Matheus Marinho Feitoza;\n",
      "Paulo Henrique dos Santos;\n",
      "Luísa Ribeiro Cassini;\n",
      "Isabella Torres Godoi;\n",
      "Hugo Teodoro Calandrini De Azevedo Melo;\n",
      "Victor Henrique Batista de Macedo; e\n",
      "Antônio Lopes Júnior.\n",
      "23 de abril de 2024 NoturnoLuiz Henrique Costa Gonçalves;\n",
      "Cristiano Moreira Moteram;\n",
      "Matheus Marinho Feitoza;\n",
      "Taylan Silva Bustamante;\n",
      "Paulo Henrique dos Santos ;\n",
      "Hugo Teodoro Calandrini De Azevedo Melo;\n",
      "Eduardo Thierry Batista Leite;\n",
      "Antônio Lopes Júnior; e\n",
      "Flávio Júlio Alves Silva.\n",
      "ATO Nº 6302/2024\n",
      "O DEFENSOR PÚBLICO-GERAL DO ESTADO DE MINAS  GERAIS em exercício, na forma do artigo 12, §1°,  da Lei\n",
      "Complementar n. 65/03, no uso de atribuição estabelecida no artigo 9º, XXXVIII, da Lei Complementar Estadual n.\n",
      "65, de 16 de janeiro de 2003, considerando o que consta no procedimento SEI n. 9990000001.003547/2024-29;\n",
      "autoriza o Defensor Público Flávio Rodrigues Lélles, Madep n. 419, a se ausentar das suas atribuições ordinárias e' metadata={'source': 'files/DPMG.pdf', 'page': 4}\n"
     ]
    }
   ],
   "source": [
    "# rag_chain.invoke(\"Quais são os plantões do lucas\")\n",
    "# retriever.invoke(\"Quais são os plantões do lucas\")\n",
    "for split in splits:\n",
    "    if 'Lucas' in split.page_content:\n",
    "        print(split)\n",
    "    \n",
    "        # print('Não encontrado.')\n",
    "    \t# print(split)\n",
    "        # print('\\n###\\n')\n"
   ]
  },
  {
   "cell_type": "code",
   "execution_count": 45,
   "metadata": {},
   "outputs": [
    {
     "name": "stdout",
     "output_type": "stream",
     "text": [
      "Ola, bom dia, meu nome é Lucas\n"
     ]
    }
   ],
   "source": [
    "text = 'Ola, bom dia, meu nome é Lucas'\n",
    "\n",
    "if 'Lucas' in text:\n",
    "    print(text)\n",
    "else:\n",
    "    print('nao encontrado')"
   ]
  }
 ],
 "metadata": {
  "kernelspec": {
   "display_name": ".venv",
   "language": "python",
   "name": "python3"
  },
  "language_info": {
   "codemirror_mode": {
    "name": "ipython",
    "version": 3
   },
   "file_extension": ".py",
   "mimetype": "text/x-python",
   "name": "python",
   "nbconvert_exporter": "python",
   "pygments_lexer": "ipython3",
   "version": "3.10.12"
  }
 },
 "nbformat": 4,
 "nbformat_minor": 2
}
