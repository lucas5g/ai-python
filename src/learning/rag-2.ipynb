{
 "cells": [
  {
   "cell_type": "code",
   "execution_count": 2,
   "metadata": {},
   "outputs": [],
   "source": [
    "from langchain_community.document_loaders import PyPDFLoader\n",
    "from langchain_text_splitters import RecursiveCharacterTextSplitter\n",
    "from langchain_groq import ChatGroq\n",
    "from langchain_openai import OpenAIEmbeddings\n",
    "from langchain_community.vectorstores import FAISS\n",
    "from langchain_chroma import Chroma\n",
    "from langchain_openai import ChatOpenAI\n",
    "from langchain import hub\n",
    "from langchain_core.output_parsers import StrOutputParser\n",
    "from langchain_core.runnables import RunnablePassthrough\n",
    "\n",
    "\n"
   ]
  },
  {
   "cell_type": "code",
   "execution_count": 3,
   "metadata": {},
   "outputs": [],
   "source": [
    "llm = ChatOpenAI(model=\"gpt-3.5-turbo\")\n",
    "\n"
   ]
  },
  {
   "cell_type": "code",
   "execution_count": null,
   "metadata": {},
   "outputs": [],
   "source": []
  },
  {
   "cell_type": "code",
   "execution_count": 52,
   "metadata": {},
   "outputs": [],
   "source": [
    "loader = PyPDFLoader(\"files/DPMG.pdf\")\n",
    "\n",
    "docs = loader.load()\n",
    "\n",
    "text_splitter = RecursiveCharacterTextSplitter(\n",
    "    # chunk_size=1000, chunk_overlap=0,\n",
    "    # separators=[\".\"]\n",
    "    separators=[\n",
    "        \"\\n\\n\",\n",
    "        \"\\n\",\n",
    "        \" \",\n",
    "        \".\",\n",
    "        \",\",\n",
    "        \"\\u200b\",  # Zero-width space\n",
    "        \"\\uff0c\",  # Fullwidth comma\n",
    "        \"\\u3001\",  # Ideographic comma\n",
    "        \"\\uff0e\",  # Fullwidth full stop\n",
    "        \"\\u3002\",  # Ideographic full stop\n",
    "        \"\",\n",
    "    ],\n",
    ")\n",
    "splits = text_splitter.split_documents(docs)\n",
    "vectorstore = Chroma.from_documents(documents=splits, embedding=OpenAIEmbeddings())\n",
    "\n",
    "# Retrieve and generate using the relevant snippets of the blog.\n",
    "retriever = vectorstore.as_retriever()\n",
    "prompt = hub.pull(\"rlm/rag-prompt\")\n",
    "\n",
    "\n",
    "def format_docs(docs):\n",
    "\n",
    "    return \"\\n\\n\".join(doc.page_content for doc in docs)\n",
    "\n",
    "\n",
    "rag_chain = (\n",
    "    {\"context\": retriever | format_docs, \"question\": RunnablePassthrough()}\n",
    "    | prompt\n",
    "    | llm\n",
    "    | StrOutputParser()\n",
    ")"
   ]
  },
  {
   "cell_type": "code",
   "execution_count": 53,
   "metadata": {},
   "outputs": [
    {
     "data": {
      "text/plain": [
       "'Lucas de Sousa Assunção teve aulas nos dias 18 de abril e 23 de abril de 2024, ambos no turno noturno. Ele estava presente junto com outros alunos como Matheus Marinho Feitoza, Paulo Henrique dos Santos, e outros mencionados nas listas.'"
      ]
     },
     "execution_count": 53,
     "metadata": {},
     "output_type": "execute_result"
    }
   ],
   "source": [
    "rag_chain.invoke(\"Quais as datas do Lucas de Sousa Assunção?\")"
   ]
  },
  {
   "cell_type": "markdown",
   "metadata": {},
   "source": []
  },
  {
   "cell_type": "code",
   "execution_count": 39,
   "metadata": {},
   "outputs": [
    {
     "data": {
      "text/plain": [
       "[Document(metadata={'page': 4, 'source': 'files/DPMG.pdf'}, page_content='Lucas De Sousa Assunção;\\nMatheus Marinho Feitoza;\\nPaulo Henrique dos Santos;\\nLuísa Ribeiro Cassini;\\nIsabella Torres Godoi;\\nHugo Teodoro Calandrini De Azevedo Melo;\\nVictor Henrique Batista de Macedo; e\\nAntônio Lopes Júnior.\\n23 de abril de 2024 NoturnoLuiz Henrique Costa Gonçalves;\\nCristiano Moreira Moteram;\\nMatheus Marinho Feitoza;\\nTaylan Silva Bustamante;\\nPaulo Henrique dos Santos ;\\nHugo Teodoro Calandrini De Azevedo Melo;\\nEduardo Thierry Batista Leite;\\nAntônio Lopes Júnior; e\\nFlávio Júlio Alves Silva.\\nATO Nº 6302/2024\\nO DEFENSOR PÚBLICO-GERAL DO ESTADO DE MINAS  GERAIS em exercício, na forma do artigo 12, §1°,  da Lei\\nComplementar n. 65/03, no uso de atribuição estabelecida no artigo 9º, XXXVIII, da Lei Complementar Estadual n.\\n65, de 16 de janeiro de 2003, considerando o que consta no procedimento SEI n. 9990000001.003547/2024-29;\\nautoriza o Defensor Público Flávio Rodrigues Lélles, Madep n. 419, a se ausentar das suas atribuições ordinárias e'),\n",
       " Document(metadata={'page': 3, 'source': 'files/DPMG.pdf'}, page_content='do serviço público, designa os servidores públicos nominados no anexo para os plantões da Superintendência de\\nTecnologia da Informação – STI, do mês de abril de 2024, concedendo-lhes 01 (um) dia de crédito de compensação\\npor dia de plantão.\\nBelo Horizonte, 05 de abril de 2024.\\nNikolas Stefany Macedo Katopodis\\nDefensor Público-Geral do Estado de Minas Gerais em exercício\\n \\nAnexo\\nDatas ModalidadeServidores Públicos\\n06 de abril de 2024 DiurnoEduardo Thierry Batista Leite;\\nVictor Henrique Batista de Macedo; e\\nAntônio Lopes Júnior.\\n09 de abril de 2024 NoturnoEduardo Thierry Batista Leite;\\nVictor Henrique Batista de Macedo;\\nAntônio Lopes Júnior; e\\nhttps://diariooficial.defensoria.mg.def.br/ Edição de 06/04/2024 Página 4 de 13'),\n",
       " Document(metadata={'page': 6, 'source': 'files/DPMG.pdf'}, page_content='O DEFENSOR PÚBLICO-GERAL DO ESTADO DE MINAS GERAIS em exercício, no uso de suas atribuições estabelecidas\\nno artigo 9º, I, III, XII, c/c art. 12, § 1°, ambos da Lei Complementar Estadual n. 65, de 16 de janeiro de 2003,\\nconsiderando  o  que  consta  do  processo  SEI  n.  9990000001.008636/2023-81  autoriza  a  reificação  da  escala  de\\nplantão  de  final  de semana,  feriados e pontos facultativos  do  1° semestre  de  2024,  conforme  solicitado  pela\\nCoordenação Regional de Família e Sucessões da Capital, nos termos da Resolução n. 1388/2023.\\nBelo Horizonte, 05 de abril de 2024.\\nNikolas Stefany Macedo Katopodis\\nDefensor Público-Geral em exercício\\nESCALA DE PLANTÃO DE FINAL DE SEMANA, FERIADOS E PONTO FACULTATIVO\\nCOMARCA: BELO HORIZONTE\\nDATADEFENSOR(A) PÚBLICO(A) CONTATOS\\n07/04/2024Camila Prado Moreira Penna\\nChristiane Neves Procópio MalardTelefone: (31) 999711636 \\nE-mail: camila.penna@defensoria.mg.def.br  \\nTelefone: (31) 992011782 \\nE-mail: christiane.malard@defensoria.mg.def.br'),\n",
       " Document(metadata={'page': 6, 'source': 'files/DPMG.pdf'}, page_content='O DEFENSOR PÚBLICO-GERAL DO ESTADO DE MINAS GERAIS em exercício, no uso de suas atribuições estabelecidas\\nno artigo 9º, I, III, XII, c/c art. 12, § 1°, ambos da Lei Complementar Estadual n. 65, de 16 de janeiro de 2003,\\nconsiderando  o  que  consta  do  processo  SEI  n.  9990000001.008636/2023-81  autoriza  a  reificação  da  escala  de\\nplantão  de  final  de semana,  feriados e pontos facultativos  do  1° semestre  de  2024,  conforme  solicitado  pela\\nCoordenação Regional de Família e Sucessões da Capital, nos termos da Resolução n. 1388/2023.\\nBelo Horizonte, 05 de abril de 2024.\\nNikolas Stefany Macedo Katopodis\\nDefensor Público-Geral em exercício\\nESCALA DE PLANTÃO DE FINAL DE SEMANA, FERIADOS E PONTO FACULTATIVO\\nCOMARCA: BELO HORIZONTE\\nDATADEFENSOR(A) PÚBLICO(A) CONTATOS\\n07/04/2024Camila Prado Moreira Penna\\nChristiane Neves Procópio MalardTelefone: (31) 999711636 \\nE-mail: camila.penna@defensoria.mg.def.br  \\nTelefone: (31) 992011782 \\nE-mail: christiane.malard@defensoria.mg.def.br')]"
      ]
     },
     "execution_count": 39,
     "metadata": {},
     "output_type": "execute_result"
    }
   ],
   "source": [
    "retriever.invoke(\"Quais os plantões do Lucas de Sousa Assunção?\")"
   ]
  },
  {
   "cell_type": "code",
   "execution_count": 68,
   "metadata": {},
   "outputs": [],
   "source": [
    "from langchain.chains import create_retrieval_chain\n",
    "from langchain.chains.combine_documents import create_stuff_documents_chain\n",
    "from langchain_core.prompts import ChatPromptTemplate\n",
    "\n",
    "system_prompt = (\n",
    "    \"Você é um assistente para tarefas de resposta a perguntas. \"\n",
    "    \"Use os seguintes pedaços de contexto recuperado para responder \"\n",
    "    \"à pergunta. Se você não sabe a resposta, diga que \"\n",
    "    \"não sabe. Use no máximo três frases e mantenha a \"\n",
    "    \"resposta concisa.\"\n",
    "    \"\\n\\n\"\n",
    "    \"{context}\"\n",
    "    \"Pergunta: Datas do Lucas\"\n",
    "    \"Resposta: 10/04/22\"\n",
    "    \n",
    "    \"Pergunta: Datas do Antonio\"\n",
    "    \"Resposta: 10/04/22 e 10/05/22\"\n",
    "          \n",
    ")\n",
    "\n",
    "prompt = ChatPromptTemplate.from_messages(\n",
    "    [\n",
    "        (\"system\", system_prompt),\n",
    "        (\"human\", \"{input}\"),\n",
    "    ]\n",
    ")\n",
    "\n",
    "\n",
    "question_answer_chain = create_stuff_documents_chain(llm, prompt)\n",
    "rag_chain = create_retrieval_chain(retriever, question_answer_chain)"
   ]
  },
  {
   "cell_type": "code",
   "execution_count": 69,
   "metadata": {},
   "outputs": [
    {
     "data": {
      "text/plain": [
       "{'input': 'Datas do Lucas De Sousa Assunção',\n",
       " 'context': [Document(metadata={'page': 4, 'source': 'files/DPMG.pdf'}, page_content='Lucas De Sousa Assunção;\\nMatheus Marinho Feitoza;\\nPaulo Henrique dos Santos;\\nLuísa Ribeiro Cassini;\\nIsabella Torres Godoi;\\nHugo Teodoro Calandrini De Azevedo Melo;\\nVictor Henrique Batista de Macedo; e\\nAntônio Lopes Júnior.\\n23 de abril de 2024 NoturnoLuiz Henrique Costa Gonçalves;\\nCristiano Moreira Moteram;\\nMatheus Marinho Feitoza;\\nTaylan Silva Bustamante;\\nPaulo Henrique dos Santos ;\\nHugo Teodoro Calandrini De Azevedo Melo;\\nEduardo Thierry Batista Leite;\\nAntônio Lopes Júnior; e\\nFlávio Júlio Alves Silva.\\nATO Nº 6302/2024\\nO DEFENSOR PÚBLICO-GERAL DO ESTADO DE MINAS  GERAIS em exercício, na forma do artigo 12, §1°,  da Lei\\nComplementar n. 65/03, no uso de atribuição estabelecida no artigo 9º, XXXVIII, da Lei Complementar Estadual n.\\n65, de 16 de janeiro de 2003, considerando o que consta no procedimento SEI n. 9990000001.003547/2024-29;\\nautoriza o Defensor Público Flávio Rodrigues Lélles, Madep n. 419, a se ausentar das suas atribuições ordinárias e'),\n",
       "  Document(metadata={'page': 4, 'source': 'files/DPMG.pdf'}, page_content='.\\n18 de abril de 2024 NoturnoLuiz Henrique Costa Gonçalves;\\nLucas De Sousa Assunção;\\nMatheus Marinho Feitoza;\\nPaulo Henrique dos Santos;\\nLuísa Ribeiro Cassini;\\nIsabella Torres Godoi;\\nHugo Teodoro Calandrini De Azevedo Melo;\\nVictor Henrique Batista de Macedo; e\\nAntônio Lopes Júnior.\\n23 de abril de 2024 NoturnoLuiz Henrique Costa Gonçalves;\\nCristiano Moreira Moteram;\\nMatheus Marinho Feitoza;\\nTaylan Silva Bustamante;\\nPaulo Henrique dos Santos ;\\nHugo Teodoro Calandrini De Azevedo Melo;\\nEduardo Thierry Batista Leite;\\nAntônio Lopes Júnior; e\\nFlávio Júlio Alves Silva.\\nATO Nº 6302/2024\\nO DEFENSOR PÚBLICO-GERAL DO ESTADO DE MINAS  GERAIS em exercício, na forma do artigo 12, §1°,  da Lei\\nComplementar n. 65/03, no uso de atribuição estabelecida no artigo 9º, XXXVIII, da Lei Complementar Estadual n.\\n65, de 16 de janeiro de 2003, considerando o que consta no procedimento SEI n. 9990000001.003547/2024-29;\\nautoriza o Defensor Público Flávio Rodrigues Lélles, Madep n'),\n",
       "  Document(metadata={'page': 4, 'source': 'files/DPMG.pdf'}, page_content='.\\n18 de abril de 2024 NoturnoLuiz Henrique Costa Gonçalves;\\nLucas De Sousa Assunção;\\nMatheus Marinho Feitoza;\\nPaulo Henrique dos Santos;\\nLuísa Ribeiro Cassini;\\nIsabella Torres Godoi;\\nHugo Teodoro Calandrini De Azevedo Melo;\\nVictor Henrique Batista de Macedo; e\\nAntônio Lopes Júnior.\\n23 de abril de 2024 NoturnoLuiz Henrique Costa Gonçalves;\\nCristiano Moreira Moteram;\\nMatheus Marinho Feitoza;\\nTaylan Silva Bustamante;\\nPaulo Henrique dos Santos ;\\nHugo Teodoro Calandrini De Azevedo Melo;\\nEduardo Thierry Batista Leite;\\nAntônio Lopes Júnior; e\\nFlávio Júlio Alves Silva.\\nATO Nº 6302/2024\\nO DEFENSOR PÚBLICO-GERAL DO ESTADO DE MINAS  GERAIS em exercício, na forma do artigo 12, §1°,  da Lei\\nComplementar n. 65/03, no uso de atribuição estabelecida no artigo 9º, XXXVIII, da Lei Complementar Estadual n.\\n65, de 16 de janeiro de 2003, considerando o que consta no procedimento SEI n. 9990000001.003547/2024-29;\\nautoriza o Defensor Público Flávio Rodrigues Lélles, Madep n'),\n",
       "  Document(metadata={'page': 4, 'source': 'files/DPMG.pdf'}, page_content='Victor Henrique Batista de Macedo; e\\nAntônio Lopes Júnior.\\n23 de abril de 2024 NoturnoLuiz Henrique Costa Gonçalves;\\nCristiano Moreira Moteram;\\nMatheus Marinho Feitoza;\\nTaylan Silva Bustamante;\\nPaulo Henrique dos Santos ;\\nHugo Teodoro Calandrini De Azevedo Melo;\\nEduardo Thierry Batista Leite;\\nAntônio Lopes Júnior; e\\nFlávio Júlio Alves Silva.\\nATO Nº 6302/2024\\nO DEFENSOR PÚBLICO-GERAL DO ESTADO DE MINAS  GERAIS em exercício, na forma do artigo 12, §1°,  da Lei\\nComplementar n. 65/03, no uso de atribuição estabelecida no artigo 9º, XXXVIII, da Lei Complementar Estadual n.\\n65, de 16 de janeiro de 2003, considerando o que consta no procedimento SEI n. 9990000001.003547/2024-29;\\nautoriza o Defensor Público Flávio Rodrigues Lélles, Madep n. 419, a se ausentar das suas atribuições ordinárias e\\nextraordinárias nos dias 08/04/2024 a 12/04/2024, na forma do artigo 16, §5°, inciso II, da Deliberação n. 260/2022.\\nhttps://diariooficial.defensoria.mg.def.br/ Edição de 06/04/2024 Página 5 de 13')],\n",
       " 'answer': 'Lucas De Sousa Assunção esteve ausente nos dias 10/04/2024 a 12/04/2024.'}"
      ]
     },
     "execution_count": 69,
     "metadata": {},
     "output_type": "execute_result"
    }
   ],
   "source": [
    "rag_chain.invoke({\"input\":\"Datas do Lucas De Sousa Assunção\"})"
   ]
  },
  {
   "cell_type": "code",
   "execution_count": 31,
   "metadata": {},
   "outputs": [
    {
     "data": {
      "text/plain": [
       "'Não há informações disponíveis sobre os plantões específicos de Lucas De Sousa Assunção nos documentos fornecidos.'"
      ]
     },
     "execution_count": 31,
     "metadata": {},
     "output_type": "execute_result"
    }
   ],
   "source": [
    "result[\"answer\"]"
   ]
  },
  {
   "cell_type": "code",
   "execution_count": 26,
   "metadata": {},
   "outputs": [],
   "source": [
    "res = retriever.invoke(\"Quais são os plantões do Lucas de Sousa Assunção\")"
   ]
  },
  {
   "cell_type": "code",
   "execution_count": 28,
   "metadata": {},
   "outputs": [
    {
     "name": "stdout",
     "output_type": "stream",
     "text": [
      "page_content='Lucas De Sousa Assunção;\n",
      "Matheus Marinho Feitoza;\n",
      "Paulo Henrique dos Santos;\n",
      "Luísa Ribeiro Cassini;\n",
      "Isabella Torres Godoi;\n",
      "Hugo Teodoro Calandrini De Azevedo Melo;\n",
      "Victor Henrique Batista de Macedo; e\n",
      "Antônio Lopes Júnior.\n",
      "23 de abril de 2024 NoturnoLuiz Henrique Costa Gonçalves;\n",
      "Cristiano Moreira Moteram;\n",
      "Matheus Marinho Feitoza;\n",
      "Taylan Silva Bustamante;\n",
      "Paulo Henrique dos Santos ;\n",
      "Hugo Teodoro Calandrini De Azevedo Melo;\n",
      "Eduardo Thierry Batista Leite;\n",
      "Antônio Lopes Júnior; e\n",
      "Flávio Júlio Alves Silva.\n",
      "ATO Nº 6302/2024\n",
      "O DEFENSOR PÚBLICO-GERAL DO ESTADO DE MINAS  GERAIS em exercício, na forma do artigo 12, §1°,  da Lei\n",
      "Complementar n. 65/03, no uso de atribuição estabelecida no artigo 9º, XXXVIII, da Lei Complementar Estadual n.\n",
      "65, de 16 de janeiro de 2003, considerando o que consta no procedimento SEI n. 9990000001.003547/2024-29;\n",
      "autoriza o Defensor Público Flávio Rodrigues Lélles, Madep n. 419, a se ausentar das suas atribuições ordinárias e' metadata={'page': 4, 'source': 'files/DPMG.pdf'}\n",
      "page_content='n° 190/2021:\n",
      "I - Os Exmos. Defensores Públicos Leonardo César Matheus e Álvaro da Silveira Bittencourt serão os substitutos\n",
      "automáticos da Exma. Defensora Pública Priscila de Melo Cordeiro e do Exmo. Defensor Adriano Magno de Marçall e\n",
      "Silva;\n",
      "II - Os Exmos. Defensores Públicos Adriano Magno de Marçall e Silva e Priscila de Melo Cordeiro serão os substitutos\n",
      "automáticos dos Exmos. Defensores Públicos Leonardo César Matheus e Álvaro da Silveira Bittencourt;\n",
      "III - Os Exmos. Defensores Públicos Luiz Fernando Laurino e Renato Tavares da Silva serão os substitutos automáticos\n",
      "do Exmo. Defensor Público Bruno Pinto Rodrigues;\n",
      "IV - Os Exmos. Defensores Públicos Bruno Pinto Rodrigues e Vanessa Maria de Miranda Pontes serão os substitutos\n",
      "automáticos do Exmo. Defensor Público Renato Tavares da Silva;\n",
      "V - Os Exmos. Defensores Públicos Bruno Pinto Rodrigues e Renato Tavares da Silva serão os substitutos automáticos\n",
      "do Exmo. Defensor Público Luiz Fernando Laurino;' metadata={'page': 8, 'source': 'files/DPMG.pdf'}\n",
      "page_content='Nikolas Stefany Macedo Katopodis\n",
      "Defensor Público-Geral do Estado de Minas Gerais,  em exercício\n",
      "PORTARIAS DE UNIDADES\n",
      "BARROSO\n",
      "ATO DA DEFENSORIA PÚBLICA-GERAL\n",
      "Nº 6288/2024\n",
      "O DEFENSOR PÚBLICO-GERAL DO ESTADO DE MINAS GERAIS em exercício, no uso de suas atribuições estabelecidas\n",
      "no artigo 9º, I, III, XII, c/c art. 12, § 1°, ambos da Lei Complementar Estadual n. 65, de 16 de janeiro de 2003,\n",
      "considerando o que consta do processo SEI n.  9990000001.000831/2023-62   autoriza a retificação da escala de\n",
      "plantão  de  final  de semana,  feriados e pontos facultativos  do  1° semestre  de  2024,  conforme  solicitado  pela\n",
      "Coordenação Local da Defensoria Pública em  Barroso, nos termos da Resolução n. 1388/2023.\n",
      "Belo Horizonte, 05 de abril   de 2024.\n",
      "Nikolas Stefany Macedo Katopodis\n",
      "Defensor Público-Geral em exercício\n",
      "ESCALA DE PLANTÃO DE FINAL DE SEMANA, FERIADOS E PONTO FACULTATIVO\n",
      "COMARCA: Barroso\n",
      "DATADEFENSOR(A) PÚBLICO(A) CONTATOS' metadata={'page': 5, 'source': 'files/DPMG.pdf'}\n",
      "page_content='O DEFENSOR PÚBLICO-GERAL DO ESTADO DE MINAS GERAIS em exercício, no uso de suas atribuições estabelecidas\n",
      "no artigo 9º, I, III, XII, c/c art. 12, § 1°, ambos da Lei Complementar Estadual n. 65, de 16 de janeiro de 2003,\n",
      "considerando  o  que  consta  do  processo  SEI  n.  9990000001.008636/2023-81  autoriza  a  reificação  da  escala  de\n",
      "plantão  de  final  de semana,  feriados e pontos facultativos  do  1° semestre  de  2024,  conforme  solicitado  pela\n",
      "Coordenação Regional de Família e Sucessões da Capital, nos termos da Resolução n. 1388/2023.\n",
      "Belo Horizonte, 05 de abril de 2024.\n",
      "Nikolas Stefany Macedo Katopodis\n",
      "Defensor Público-Geral em exercício\n",
      "ESCALA DE PLANTÃO DE FINAL DE SEMANA, FERIADOS E PONTO FACULTATIVO\n",
      "COMARCA: BELO HORIZONTE\n",
      "DATADEFENSOR(A) PÚBLICO(A) CONTATOS\n",
      "07/04/2024Camila Prado Moreira Penna\n",
      "Christiane Neves Procópio MalardTelefone: (31) 999711636 \n",
      "E-mail: camila.penna@defensoria.mg.def.br  \n",
      "Telefone: (31) 992011782 \n",
      "E-mail: christiane.malard@defensoria.mg.def.br' metadata={'page': 6, 'source': 'files/DPMG.pdf'}\n"
     ]
    }
   ],
   "source": [
    "for row in res:\n",
    "    print(row)"
   ]
  },
  {
   "cell_type": "code",
   "execution_count": 27,
   "metadata": {},
   "outputs": [
    {
     "ename": "TypeError",
     "evalue": "list indices must be integers or slices, not str",
     "output_type": "error",
     "traceback": [
      "\u001b[0;31m---------------------------------------------------------------------------\u001b[0m",
      "\u001b[0;31mTypeError\u001b[0m                                 Traceback (most recent call last)",
      "Cell \u001b[0;32mIn[27], line 1\u001b[0m\n\u001b[0;32m----> 1\u001b[0m \u001b[38;5;28;01mfor\u001b[39;00m row \u001b[38;5;129;01min\u001b[39;00m \u001b[43mres\u001b[49m\u001b[43m[\u001b[49m\u001b[38;5;124;43m\"\u001b[39;49m\u001b[38;5;124;43mcontext\u001b[39;49m\u001b[38;5;124;43m\"\u001b[39;49m\u001b[43m]\u001b[49m:\n\u001b[1;32m      2\u001b[0m     \u001b[38;5;28mprint\u001b[39m(row, end\u001b[38;5;241m=\u001b[39m\u001b[38;5;124m\"\u001b[39m\u001b[38;5;124m##### \u001b[39m\u001b[38;5;130;01m\\n\u001b[39;00m\u001b[38;5;130;01m\\n\u001b[39;00m\u001b[38;5;124m\"\u001b[39m)\n",
      "\u001b[0;31mTypeError\u001b[0m: list indices must be integers or slices, not str"
     ]
    }
   ],
   "source": [
    "for row in res[\"context\"]:\n",
    "    print(row, end=\"##### \\n\\n\")\n",
    "    \n",
    "    "
   ]
  },
  {
   "cell_type": "code",
   "execution_count": 1,
   "metadata": {},
   "outputs": [
    {
     "ename": "AttributeError",
     "evalue": "module 'pdfminer' has no attribute 'PDFPage'",
     "output_type": "error",
     "traceback": [
      "\u001b[0;31m---------------------------------------------------------------------------\u001b[0m",
      "\u001b[0;31mAttributeError\u001b[0m                            Traceback (most recent call last)",
      "Cell \u001b[0;32mIn[1], line 3\u001b[0m\n\u001b[1;32m      1\u001b[0m \u001b[38;5;28;01mimport\u001b[39;00m \u001b[38;5;21;01mpdfminer\u001b[39;00m\n\u001b[0;32m----> 3\u001b[0m \u001b[38;5;28;01mwith\u001b[39;00m \u001b[43mpdfminer\u001b[49m\u001b[38;5;241;43m.\u001b[39;49m\u001b[43mPDFPage\u001b[49m(\u001b[38;5;124m'\u001b[39m\u001b[38;5;124mfiles/DPMG.pdf\u001b[39m\u001b[38;5;124m'\u001b[39m) \u001b[38;5;28;01mas\u001b[39;00m page:\n\u001b[1;32m      4\u001b[0m     texto \u001b[38;5;241m=\u001b[39m page\u001b[38;5;241m.\u001b[39mextract_text()\n\u001b[1;32m      5\u001b[0m     \u001b[38;5;28mprint\u001b[39m(texto)\n",
      "\u001b[0;31mAttributeError\u001b[0m: module 'pdfminer' has no attribute 'PDFPage'"
     ]
    }
   ],
   "source": [
    "import pdfminer\n",
    "\n",
    "with pdfminer.PDFPage('files/DPMG.pdf') as page:\n",
    "    texto = page.extract_text()\n",
    "    print(texto)"
   ]
  }
 ],
 "metadata": {
  "kernelspec": {
   "display_name": ".venv",
   "language": "python",
   "name": "python3"
  },
  "language_info": {
   "codemirror_mode": {
    "name": "ipython",
    "version": 3
   },
   "file_extension": ".py",
   "mimetype": "text/x-python",
   "name": "python",
   "nbconvert_exporter": "python",
   "pygments_lexer": "ipython3",
   "version": "3.10.12"
  }
 },
 "nbformat": 4,
 "nbformat_minor": 2
}
