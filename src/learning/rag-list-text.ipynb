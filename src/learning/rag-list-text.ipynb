{
 "cells": [
  {
   "cell_type": "code",
   "execution_count": 38,
   "metadata": {},
   "outputs": [],
   "source": [
    "from langchain_openai import ChatOpenAI\n",
    "from langchain_core.output_parsers import StrOutputParser\n",
    "from langchain_core.prompts import ChatPromptTemplate\n",
    "\n",
    "\n",
    "parser = StrOutputParser()\n",
    "model = ChatOpenAI(model=\"gpt-3.5-turbo\")"
   ]
  },
  {
   "cell_type": "code",
   "execution_count": 43,
   "metadata": {},
   "outputs": [],
   "source": [
    "context =  ['003349/2024-65,\\ndesigna  os  servidores  públicos  nominados  no  anexo  para  os  plantões  extraordinários  da  Escola  Superior  da\\nDefensoria Pública de Minas Gerais - ESDEP, dos meses de abril, maio e junho de 2024',\n",
    "  '\\n09 de abril de 2024 NoturnoEduardo Thierry Batista Leite;\\nVictor Henrique Batista de Macedo;\\nAntônio Lopes Júnior; e\\nhttps://diariooficial',\n",
    "  '009584/2023-60, ID –\\n0241294, designo a defensora pública SILVANA LOURENÇO LOBO, MADEP 200, para o plantão da Defensoria-Geral\\npara os plantões dos dias 06 e 07 de abril de 2024, em substituição à defensora pública EMÍLIA EUNILCE ALCARAZ\\nCASTILHO, MADEP 694',\n",
    "  '\\n13 de abril de 2024 DiurnoEduardo Thierry Batista Leite;\\nVictor Henrique Batista de Macedo;\\nAntônio Lopes Júnior; e\\nFlávio Júlio Alves Silva',\n",
    "  '006270/2022-24, ID – 0241371 e 0241486; e considerando a necessidade de assegurar a continuidade\\ndo serviço público, designa os servidores públicos nominados no anexo para os plantões da Superintendência de\\nTecnologia da Informação – STI, do mês de abril de 2024, concedendo-lhes 01 (um) dia de crédito de compensação\\npor dia de plantão',\n",
    "  '\\n14 de abril de 2024 DiurnoEduardo Thierry Batista Leite;\\nVictor Henrique Batista de Macedo; e\\nAntônio Lopes Júnior',\n",
    "  '\\n11 de abril de 2024 NoturnoLuiz Henrique Costa Gonçalves;\\nCristiano Moreira Moteram;\\nTaylan Silva Bustamante;\\nRafael Martins Galdino;\\nHugo Teodoro Calandrini De Azevedo Melo;\\nEduardo Thierry Batista Leite; e\\nAntônio Lopes Júnior',\n",
    "  '\\n23 de abril de 2024 NoturnoLuiz Henrique Costa Gonçalves;\\nCristiano Moreira Moteram;\\nMatheus Marinho Feitoza;\\nTaylan Silva Bustamante;\\nPaulo Henrique dos Santos ;\\nHugo Teodoro Calandrini De Azevedo Melo;\\nEduardo Thierry Batista Leite;\\nAntônio Lopes Júnior; e\\nFlávio Júlio Alves Silva',\n",
    "  ' Diurno Alfredo José Pinto Júnior, MASP 7',\n",
    "  '\\n18 de abril de 2024 NoturnoLuiz Henrique Costa Gonçalves;\\nLucas De Sousa Assunção;\\nMatheus Marinho Feitoza;\\nPaulo Henrique dos Santos;\\nLuísa Ribeiro Cassini;\\nIsabella Torres Godoi;\\nHugo Teodoro Calandrini De Azevedo Melo;\\nVictor Henrique Batista de Macedo; e\\nAntônio Lopes Júnior',\n",
    "  '\\n16 de abril de 2024 NoturnoLuiz Henrique Costa Gonçalves;\\nCristiano Moreira Moteram;\\nRafael Martins Galdino;\\nPaulo Henrique dos Santos;\\nHugo Teodoro Calandrini De Azevedo Melo;\\nVictor Henrique Batista de Macedo; e\\nAntônio Lopes Júnior',\n",
    "  '\\nNikolas Stefany Macedo Katopodis\\nDefensor Público-Geral do Estado de Minas Gerais em exercício\\n \\nAnexo\\nDatas ModalidadeServidores Públicos\\n06 de abril de 2024 DiurnoEduardo Thierry Batista Leite;\\nVictor Henrique Batista de Macedo; e\\nAntônio Lopes Júnior',\n",
    "  ' NoturnoAlfredo José Pinto Júnior, MASP 7']"
   ]
  },
  {
   "cell_type": "code",
   "execution_count": 44,
   "metadata": {},
   "outputs": [],
   "source": [
    "system_template = \"\"\" \n",
    "Você deve retornar as datas do servidores de forma ordenada no seguinte padrão:\n",
    "- dd/mm/aa\n",
    "- dd/mm/aa\n",
    "\n",
    "buscando essas inforamações no contexto abaixo\n",
    "####\n",
    "{context}\n",
    "####\n",
    "\n",
    "\"\"\"\n",
    "\n",
    "prompt_template = ChatPromptTemplate.from_messages(\n",
    "    [(\"system\", system_template), (\"user\", \"{input}\")]\n",
    ")\n",
    "\n",
    "chain = prompt_template | model | parser\n"
   ]
  },
  {
   "cell_type": "code",
   "execution_count": 46,
   "metadata": {},
   "outputs": [
    {
     "data": {
      "text/plain": [
       "['003349/2024-65,\\ndesigna  os  servidores  públicos  nominados  no  anexo  para  os  plantões  extraordinários  da  Escola  Superior  da\\nDefensoria Pública de Minas Gerais - ESDEP, dos meses de abril, maio e junho de 2024',\n",
       " '\\n09 de abril de 2024 NoturnoEduardo Thierry Batista Leite;\\nVictor Henrique Batista de Macedo;\\nAntônio Lopes Júnior; e\\nhttps://diariooficial',\n",
       " '009584/2023-60, ID –\\n0241294, designo a defensora pública SILVANA LOURENÇO LOBO, MADEP 200, para o plantão da Defensoria-Geral\\npara os plantões dos dias 06 e 07 de abril de 2024, em substituição à defensora pública EMÍLIA EUNILCE ALCARAZ\\nCASTILHO, MADEP 694',\n",
       " '\\n13 de abril de 2024 DiurnoEduardo Thierry Batista Leite;\\nVictor Henrique Batista de Macedo;\\nAntônio Lopes Júnior; e\\nFlávio Júlio Alves Silva',\n",
       " '006270/2022-24, ID – 0241371 e 0241486; e considerando a necessidade de assegurar a continuidade\\ndo serviço público, designa os servidores públicos nominados no anexo para os plantões da Superintendência de\\nTecnologia da Informação – STI, do mês de abril de 2024, concedendo-lhes 01 (um) dia de crédito de compensação\\npor dia de plantão',\n",
       " '\\n14 de abril de 2024 DiurnoEduardo Thierry Batista Leite;\\nVictor Henrique Batista de Macedo; e\\nAntônio Lopes Júnior',\n",
       " '\\n11 de abril de 2024 NoturnoLuiz Henrique Costa Gonçalves;\\nCristiano Moreira Moteram;\\nTaylan Silva Bustamante;\\nRafael Martins Galdino;\\nHugo Teodoro Calandrini De Azevedo Melo;\\nEduardo Thierry Batista Leite; e\\nAntônio Lopes Júnior',\n",
       " '\\n23 de abril de 2024 NoturnoLuiz Henrique Costa Gonçalves;\\nCristiano Moreira Moteram;\\nMatheus Marinho Feitoza;\\nTaylan Silva Bustamante;\\nPaulo Henrique dos Santos ;\\nHugo Teodoro Calandrini De Azevedo Melo;\\nEduardo Thierry Batista Leite;\\nAntônio Lopes Júnior; e\\nFlávio Júlio Alves Silva',\n",
       " ' Diurno Alfredo José Pinto Júnior, MASP 7',\n",
       " '\\n18 de abril de 2024 NoturnoLuiz Henrique Costa Gonçalves;\\nLucas De Sousa Assunção;\\nMatheus Marinho Feitoza;\\nPaulo Henrique dos Santos;\\nLuísa Ribeiro Cassini;\\nIsabella Torres Godoi;\\nHugo Teodoro Calandrini De Azevedo Melo;\\nVictor Henrique Batista de Macedo; e\\nAntônio Lopes Júnior',\n",
       " '\\n16 de abril de 2024 NoturnoLuiz Henrique Costa Gonçalves;\\nCristiano Moreira Moteram;\\nRafael Martins Galdino;\\nPaulo Henrique dos Santos;\\nHugo Teodoro Calandrini De Azevedo Melo;\\nVictor Henrique Batista de Macedo; e\\nAntônio Lopes Júnior',\n",
       " '\\nNikolas Stefany Macedo Katopodis\\nDefensor Público-Geral do Estado de Minas Gerais em exercício\\n \\nAnexo\\nDatas ModalidadeServidores Públicos\\n06 de abril de 2024 DiurnoEduardo Thierry Batista Leite;\\nVictor Henrique Batista de Macedo; e\\nAntônio Lopes Júnior',\n",
       " ' NoturnoAlfredo José Pinto Júnior, MASP 7']"
      ]
     },
     "execution_count": 46,
     "metadata": {},
     "output_type": "execute_result"
    }
   ],
   "source": [
    "context.join()"
   ]
  },
  {
   "cell_type": "code",
   "execution_count": 45,
   "metadata": {},
   "outputs": [
    {
     "name": "stdout",
     "output_type": "stream",
     "text": [
      "As datas de plantão de Antônio Lopes Júnior são:\n",
      "- 09/04/24\n",
      "- 13/04/24\n",
      "- 14/04/24\n",
      "- 11/04/24\n",
      "- 23/04/24\n",
      "- 18/04/24\n",
      "- 16/04/24\n"
     ]
    }
   ],
   "source": [
    "res = chain.invoke({\"context\":context, \"input\":\"Antônio Lopes Júnior\"})\n",
    "\n",
    "print(res)"
   ]
  },
  {
   "cell_type": "code",
   "execution_count": 40,
   "metadata": {},
   "outputs": [],
   "source": []
  },
  {
   "cell_type": "code",
   "execution_count": 41,
   "metadata": {},
   "outputs": [
    {
     "name": "stdout",
     "output_type": "stream",
     "text": [
      "As datas de plantão do servidor Antônio Lopes Júnior são:\n",
      "- 09 de abril de 2024\n",
      "- 13 de abril de 2024\n",
      "- 14 de abril de 2024\n",
      "- 11 de abril de 2024\n",
      "- 23 de abril de 2024\n",
      "- 18 de abril de 2024\n",
      "- 16 de abril de 2024\n",
      "- 06 de abril de 2024\n"
     ]
    }
   ],
   "source": []
  }
 ],
 "metadata": {
  "kernelspec": {
   "display_name": ".venv",
   "language": "python",
   "name": "python3"
  },
  "language_info": {
   "codemirror_mode": {
    "name": "ipython",
    "version": 3
   },
   "file_extension": ".py",
   "mimetype": "text/x-python",
   "name": "python",
   "nbconvert_exporter": "python",
   "pygments_lexer": "ipython3",
   "version": "3.10.12"
  }
 },
 "nbformat": 4,
 "nbformat_minor": 2
}
