{
 "cells": [
  {
   "cell_type": "code",
   "execution_count": 2,
   "metadata": {},
   "outputs": [],
   "source": [
    "import openai \n",
    "client = openai.Client()\n",
    "\n"
   ]
  },
  {
   "cell_type": "code",
   "execution_count": 3,
   "metadata": {},
   "outputs": [],
   "source": [
    "vector_store = client.beta.vector_stores.create(name=\"Apostilas Asimov Aula 15\")"
   ]
  },
  {
   "cell_type": "code",
   "execution_count": 13,
   "metadata": {},
   "outputs": [],
   "source": [
    "files = ['openAI.pdf', 'hugging-face.pdf']\n",
    "\n",
    "file_steam = [open(f, 'rb') for f in files]\n",
    "\n",
    "file_batch = client.beta.vector_stores.file_batches.upload_and_poll(\n",
    "\tvector_store_id = vector_store.id,\n",
    "\tfiles=file_steam\n",
    ")"
   ]
  },
  {
   "cell_type": "code",
   "execution_count": 15,
   "metadata": {},
   "outputs": [
    {
     "name": "stdout",
     "output_type": "stream",
     "text": [
      "completed\n",
      "FileCounts(cancelled=0, completed=2, failed=0, in_progress=0, total=2)\n"
     ]
    }
   ],
   "source": [
    "print(file_batch.status)\n",
    "print(file_batch.file_counts)"
   ]
  },
  {
   "cell_type": "code",
   "execution_count": 18,
   "metadata": {},
   "outputs": [],
   "source": [
    "assistant = client.beta.assistants.create(\n",
    "    name=\"Tutor Asimov\",\n",
    "    instructions=\"Você é um tutor de uma escola de programção. Você é ótimo para responder \\\n",
    "        perguntas teóricas sobre a api da OpenAI e sobre a utlização da biblioteca do Hugging \\\n",
    "\t\tFace com python. Você utiliza as apostilas dos cursos para basear sua respostas. Caso você não \\\n",
    "\t\tencontre as respostas nas apostilas informadas, você fala que não saber responder.\",\n",
    "    tools=[{\"type\": \"file_search\"}],\n",
    "    tool_resources={'file_search': {\"vector_store_ids\": [vector_store.id]}},\n",
    "    model=\"gpt-3.5-turbo\",\n",
    ")"
   ]
  },
  {
   "cell_type": "code",
   "execution_count": 19,
   "metadata": {},
   "outputs": [],
   "source": [
    "thread = client.beta.threads.create()"
   ]
  },
  {
   "cell_type": "code",
   "execution_count": 20,
   "metadata": {},
   "outputs": [],
   "source": [
    "texto_mensagem = \"Segundo o documento fornecido, o que é o Hugging Face?\"\n",
    "message = client.beta.threads.messages.create(\n",
    "\tthread_id=thread.id,\n",
    " \trole=\"user\",\n",
    "\tcontent=texto_mensagem\n",
    ")"
   ]
  },
  {
   "cell_type": "code",
   "execution_count": 21,
   "metadata": {},
   "outputs": [],
   "source": [
    "run = client.beta.threads.runs.create(\n",
    "\tthread_id=thread.id,\n",
    "\tassistant_id=assistant.id,\n",
    "\tinstructions=\"O nome do usuário é Adriano Soares e ele é um usuário Premium.\"\n",
    ")"
   ]
  },
  {
   "cell_type": "code",
   "execution_count": 22,
   "metadata": {},
   "outputs": [],
   "source": [
    "import time \n",
    "\n",
    "while run.status in [\"queued\", \"in_progress\", \"cancelling\"]:\n",
    "    time.sleep(1)\n",
    "    run = client.beta.threads.runs.retrieve(\n",
    "\t\tthread_id=thread.id,\n",
    "\t\trun_id=run.id\n",
    "\t)"
   ]
  },
  {
   "cell_type": "code",
   "execution_count": 27,
   "metadata": {},
   "outputs": [
    {
     "data": {
      "text/plain": [
       "'completed'"
      ]
     },
     "execution_count": 27,
     "metadata": {},
     "output_type": "execute_result"
    }
   ],
   "source": [
    "run.status"
   ]
  },
  {
   "cell_type": "code",
   "execution_count": 28,
   "metadata": {},
   "outputs": [
    {
     "name": "stdout",
     "output_type": "stream",
     "text": [
      "SyncCursorPage[Message](data=[Message(id='msg_F61nCqG2s7rCHwbSAfWTk005', assistant_id='asst_mvXtvzMTM6g7cOKP1VbT7ERp', attachments=[], completed_at=None, content=[TextContentBlock(text=Text(annotations=[FileCitationAnnotation(end_index=297, file_citation=FileCitation(file_id='file-sLH3q9D9Xg4fR60djuFWFhGb'), start_index=285, text='【4:0†source】', type='file_citation')], value='O Hugging Face é uma empresa fundada em 2017 na França, inicialmente focada no desenvolvimento de Chatbots. Ao longo do tempo, a empresa passou a desenvolver uma infraestrutura própria e bibliotecas de Python que simplificam o uso de modelos de Processamento de Linguagem Natural (NLP)【4:0†source】.'), type='text')], created_at=1721419749, incomplete_at=None, incomplete_details=None, metadata={}, object='thread.message', role='assistant', run_id='run_4wj2dM1zDE45uBLN0yw9uL0n', status=None, thread_id='thread_l3L8maijFX3dxTqHrpcaz2b3'), Message(id='msg_AEC0tBX3vo6NWZVVZLP0goNB', assistant_id=None, attachments=[], completed_at=None, content=[TextContentBlock(text=Text(annotations=[], value='Segundo o documento fornecido, o que é o Hugging Face?'), type='text')], created_at=1721419737, incomplete_at=None, incomplete_details=None, metadata={}, object='thread.message', role='user', run_id=None, status=None, thread_id='thread_l3L8maijFX3dxTqHrpcaz2b3')], object='list', first_id='msg_F61nCqG2s7rCHwbSAfWTk005', last_id='msg_AEC0tBX3vo6NWZVVZLP0goNB', has_more=False)\n"
     ]
    }
   ],
   "source": [
    "if run.status == 'completed':\n",
    "    mensagens = client.beta.threads.messages.list(\n",
    "\t\tthread_id=thread.id\n",
    "\t)\n",
    "    print(mensagens)\n",
    "\n",
    "else:\n",
    "    print('Error')"
   ]
  },
  {
   "cell_type": "code",
   "execution_count": 29,
   "metadata": {},
   "outputs": [
    {
     "data": {
      "text/plain": [
       "'O Hugging Face é uma empresa fundada em 2017 na França, inicialmente focada no desenvolvimento de Chatbots. Ao longo do tempo, a empresa passou a desenvolver uma infraestrutura própria e bibliotecas de Python que simplificam o uso de modelos de Processamento de Linguagem Natural (NLP)【4:0†source】.'"
      ]
     },
     "execution_count": 29,
     "metadata": {},
     "output_type": "execute_result"
    }
   ],
   "source": [
    "mensagens.data[0].content[0].text.value"
   ]
  },
  {
   "cell_type": "code",
   "execution_count": 36,
   "metadata": {},
   "outputs": [],
   "source": [
    "run_steps = client.beta.threads.runs.steps.list(\n",
    "\tthread_id=thread.id,\n",
    "\trun_id=run.id \n",
    ")"
   ]
  },
  {
   "cell_type": "code",
   "execution_count": 37,
   "metadata": {},
   "outputs": [
    {
     "data": {
      "text/plain": [
       "RunStep(id='step_rFfoxl9lAPyY80NdNSxnpRhF', assistant_id='asst_mvXtvzMTM6g7cOKP1VbT7ERp', cancelled_at=None, completed_at=1721419750, created_at=1721419749, expired_at=None, failed_at=None, last_error=None, metadata=None, object='thread.run.step', run_id='run_4wj2dM1zDE45uBLN0yw9uL0n', status='completed', step_details=MessageCreationStepDetails(message_creation=MessageCreation(message_id='msg_F61nCqG2s7rCHwbSAfWTk005'), type='message_creation'), thread_id='thread_l3L8maijFX3dxTqHrpcaz2b3', type='message_creation', usage=Usage(completion_tokens=82, prompt_tokens=4711, total_tokens=4793), expires_at=None)"
      ]
     },
     "execution_count": 37,
     "metadata": {},
     "output_type": "execute_result"
    }
   ],
   "source": [
    "run_steps\n",
    "run_steps.data[0]"
   ]
  },
  {
   "cell_type": "code",
   "execution_count": null,
   "metadata": {},
   "outputs": [],
   "source": [
    "for step in run_steps.data:\n",
    "    print('=== step: ', step.step_details.type)\n",
    "    \n",
    "    if step.step_details.type == 'tool_calls':\n",
    "        for tool_call in step.step_details.tool_calls:\n",
    "            if tool_call == 'file_search' :\n",
    "            \tprint(tool_call)\n",
    "            else:\n",
    "                print('----')\n",
    "                print(tool_call.code_interpreter.input)\n",
    "\t\t\t\tprint('----')\n",
    "\t\t\t\tprint('Result')\n",
    "\t\t\t\tprint(tool_call.c)"
   ]
  },
  {
   "cell_type": "code",
   "execution_count": 58,
   "metadata": {},
   "outputs": [
    {
     "data": {
      "text/plain": [
       "'O Hugging Face é uma empresa fundada em 2017 na França, inicialmente focada no desenvolvimento de Chatbots. Ao longo do tempo, a empresa passou a desenvolver uma infraestrutura própria e bibliotecas de Python que simplificam o uso de modelos de Processamento de Linguagem Natural (NLP)[0].'"
      ]
     },
     "execution_count": 58,
     "metadata": {},
     "output_type": "execute_result"
    }
   ],
   "source": [
    "mensagens = client.beta.threads.messages.list(\n",
    "\tthread_id=thread.id\n",
    ")\n",
    "\n",
    "mensagem = list(mensagens)[0].content[0].text \n",
    "\n",
    "anotacoes = mensagem.annotations \n",
    "\n",
    "citacoes = []\n",
    "\n",
    "for index, anotacao in enumerate(anotacoes):\n",
    "    mensagem.value = mensagem.value.replace(anotacao.text, f\"[{index}]\")\n",
    "    if file_cit := getattr(anotacao, 'file_citation', None):\n",
    "\t    file = client.files.retrieve(file_cit.file_id)\n",
    "\t    citacoes.append(f\"[{index}] {file.filename}\")\n",
    "\t    # print(file_cit)\n",
    "mensagem.value\n",
    "    "
   ]
  },
  {
   "cell_type": "code",
   "execution_count": 59,
   "metadata": {},
   "outputs": [
    {
     "data": {
      "text/plain": [
       "['[0] hugging-face.pdf']"
      ]
     },
     "execution_count": 59,
     "metadata": {},
     "output_type": "execute_result"
    }
   ],
   "source": [
    "citacoes"
   ]
  },
  {
   "cell_type": "code",
   "execution_count": 60,
   "metadata": {},
   "outputs": [
    {
     "data": {
      "text/plain": [
       "'O Hugging Face é uma empresa fundada em 2017 na França, inicialmente focada no desenvolvimento de Chatbots. Ao longo do tempo, a empresa passou a desenvolver uma infraestrutura própria e bibliotecas de Python que simplificam o uso de modelos de Processamento de Linguagem Natural (NLP)[0].'"
      ]
     },
     "execution_count": 60,
     "metadata": {},
     "output_type": "execute_result"
    }
   ],
   "source": [
    "mensagem.value"
   ]
  }
 ],
 "metadata": {
  "kernelspec": {
   "display_name": ".venv",
   "language": "python",
   "name": "python3"
  },
  "language_info": {
   "codemirror_mode": {
    "name": "ipython",
    "version": 3
   },
   "file_extension": ".py",
   "mimetype": "text/x-python",
   "name": "python",
   "nbconvert_exporter": "python",
   "pygments_lexer": "ipython3",
   "version": "3.10.12"
  }
 },
 "nbformat": 4,
 "nbformat_minor": 2
}
